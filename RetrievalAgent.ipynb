{
  "nbformat": 4,
  "nbformat_minor": 0,
  "metadata": {
    "colab": {
      "provenance": [],
      "gpuType": "T4",
      "authorship_tag": "ABX9TyNRjibvuKCCJUHfXhA5GNWf",
      "include_colab_link": true
    },
    "kernelspec": {
      "name": "python3",
      "display_name": "Python 3"
    },
    "language_info": {
      "name": "python"
    },
    "accelerator": "GPU",
    "widgets": {
      "application/vnd.jupyter.widget-state+json": {
        "3cda3c2be1db4c7aa9710fdb26ad3d23": {
          "model_module": "@jupyter-widgets/controls",
          "model_name": "VBoxModel",
          "model_module_version": "1.5.0",
          "state": {
            "_dom_classes": [],
            "_model_module": "@jupyter-widgets/controls",
            "_model_module_version": "1.5.0",
            "_model_name": "VBoxModel",
            "_view_count": null,
            "_view_module": "@jupyter-widgets/controls",
            "_view_module_version": "1.5.0",
            "_view_name": "VBoxView",
            "box_style": "",
            "children": [],
            "layout": "IPY_MODEL_b432e4910471453197bd368a08996f14"
          }
        },
        "8c7566f8b88740bf9e28cb16932ff367": {
          "model_module": "@jupyter-widgets/controls",
          "model_name": "HTMLModel",
          "model_module_version": "1.5.0",
          "state": {
            "_dom_classes": [],
            "_model_module": "@jupyter-widgets/controls",
            "_model_module_version": "1.5.0",
            "_model_name": "HTMLModel",
            "_view_count": null,
            "_view_module": "@jupyter-widgets/controls",
            "_view_module_version": "1.5.0",
            "_view_name": "HTMLView",
            "description": "",
            "description_tooltip": null,
            "layout": "IPY_MODEL_c4089a03ab98499d916a67efcecba652",
            "placeholder": "​",
            "style": "IPY_MODEL_ab9673cc6d604621b7fdd2c06534d7b2",
            "value": "<center> <img\nsrc=https://huggingface.co/front/assets/huggingface_logo-noborder.svg\nalt='Hugging Face'> <br> Copy a token from <a\nhref=\"https://huggingface.co/settings/tokens\" target=\"_blank\">your Hugging Face\ntokens page</a> and paste it below. <br> Immediately click login after copying\nyour token or it might be stored in plain text in this notebook file. </center>"
          }
        },
        "94283e226a5e4f018fe5375a25e0c64a": {
          "model_module": "@jupyter-widgets/controls",
          "model_name": "PasswordModel",
          "model_module_version": "1.5.0",
          "state": {
            "_dom_classes": [],
            "_model_module": "@jupyter-widgets/controls",
            "_model_module_version": "1.5.0",
            "_model_name": "PasswordModel",
            "_view_count": null,
            "_view_module": "@jupyter-widgets/controls",
            "_view_module_version": "1.5.0",
            "_view_name": "PasswordView",
            "continuous_update": true,
            "description": "Token:",
            "description_tooltip": null,
            "disabled": false,
            "layout": "IPY_MODEL_b89e6eabfec54eb8b289b9a316805b44",
            "placeholder": "​",
            "style": "IPY_MODEL_36780ee1c2974e1793e4d56157cc77ec",
            "value": ""
          }
        },
        "ee6d87122baa4e21b18fb23927bb4687": {
          "model_module": "@jupyter-widgets/controls",
          "model_name": "CheckboxModel",
          "model_module_version": "1.5.0",
          "state": {
            "_dom_classes": [],
            "_model_module": "@jupyter-widgets/controls",
            "_model_module_version": "1.5.0",
            "_model_name": "CheckboxModel",
            "_view_count": null,
            "_view_module": "@jupyter-widgets/controls",
            "_view_module_version": "1.5.0",
            "_view_name": "CheckboxView",
            "description": "Add token as git credential?",
            "description_tooltip": null,
            "disabled": false,
            "indent": true,
            "layout": "IPY_MODEL_0e8d6becc78140d5ba3bc23903178232",
            "style": "IPY_MODEL_3aa1f31f73df4d198a79de11ed02c790",
            "value": true
          }
        },
        "1f8d440e4c154fe6969c5c32018ae767": {
          "model_module": "@jupyter-widgets/controls",
          "model_name": "ButtonModel",
          "model_module_version": "1.5.0",
          "state": {
            "_dom_classes": [],
            "_model_module": "@jupyter-widgets/controls",
            "_model_module_version": "1.5.0",
            "_model_name": "ButtonModel",
            "_view_count": null,
            "_view_module": "@jupyter-widgets/controls",
            "_view_module_version": "1.5.0",
            "_view_name": "ButtonView",
            "button_style": "",
            "description": "Login",
            "disabled": false,
            "icon": "",
            "layout": "IPY_MODEL_53331e075cbe4fd094e781f1ead979b5",
            "style": "IPY_MODEL_9a12c0a3e9a345498b6220b464f3afe6",
            "tooltip": ""
          }
        },
        "b0bf84894d7a4428a4d5bdb8cfbd7a4a": {
          "model_module": "@jupyter-widgets/controls",
          "model_name": "HTMLModel",
          "model_module_version": "1.5.0",
          "state": {
            "_dom_classes": [],
            "_model_module": "@jupyter-widgets/controls",
            "_model_module_version": "1.5.0",
            "_model_name": "HTMLModel",
            "_view_count": null,
            "_view_module": "@jupyter-widgets/controls",
            "_view_module_version": "1.5.0",
            "_view_name": "HTMLView",
            "description": "",
            "description_tooltip": null,
            "layout": "IPY_MODEL_9331d5309b2e49429266b15675f8b880",
            "placeholder": "​",
            "style": "IPY_MODEL_18de439b0dad45a0be88cf3eeb1713d1",
            "value": "\n<b>Pro Tip:</b> If you don't already have one, you can create a dedicated\n'notebooks' token with 'write' access, that you can then easily reuse for all\nnotebooks. </center>"
          }
        },
        "b432e4910471453197bd368a08996f14": {
          "model_module": "@jupyter-widgets/base",
          "model_name": "LayoutModel",
          "model_module_version": "1.2.0",
          "state": {
            "_model_module": "@jupyter-widgets/base",
            "_model_module_version": "1.2.0",
            "_model_name": "LayoutModel",
            "_view_count": null,
            "_view_module": "@jupyter-widgets/base",
            "_view_module_version": "1.2.0",
            "_view_name": "LayoutView",
            "align_content": null,
            "align_items": "center",
            "align_self": null,
            "border": null,
            "bottom": null,
            "display": "flex",
            "flex": null,
            "flex_flow": "column",
            "grid_area": null,
            "grid_auto_columns": null,
            "grid_auto_flow": null,
            "grid_auto_rows": null,
            "grid_column": null,
            "grid_gap": null,
            "grid_row": null,
            "grid_template_areas": null,
            "grid_template_columns": null,
            "grid_template_rows": null,
            "height": null,
            "justify_content": null,
            "justify_items": null,
            "left": null,
            "margin": null,
            "max_height": null,
            "max_width": null,
            "min_height": null,
            "min_width": null,
            "object_fit": null,
            "object_position": null,
            "order": null,
            "overflow": null,
            "overflow_x": null,
            "overflow_y": null,
            "padding": null,
            "right": null,
            "top": null,
            "visibility": null,
            "width": "50%"
          }
        },
        "c4089a03ab98499d916a67efcecba652": {
          "model_module": "@jupyter-widgets/base",
          "model_name": "LayoutModel",
          "model_module_version": "1.2.0",
          "state": {
            "_model_module": "@jupyter-widgets/base",
            "_model_module_version": "1.2.0",
            "_model_name": "LayoutModel",
            "_view_count": null,
            "_view_module": "@jupyter-widgets/base",
            "_view_module_version": "1.2.0",
            "_view_name": "LayoutView",
            "align_content": null,
            "align_items": null,
            "align_self": null,
            "border": null,
            "bottom": null,
            "display": null,
            "flex": null,
            "flex_flow": null,
            "grid_area": null,
            "grid_auto_columns": null,
            "grid_auto_flow": null,
            "grid_auto_rows": null,
            "grid_column": null,
            "grid_gap": null,
            "grid_row": null,
            "grid_template_areas": null,
            "grid_template_columns": null,
            "grid_template_rows": null,
            "height": null,
            "justify_content": null,
            "justify_items": null,
            "left": null,
            "margin": null,
            "max_height": null,
            "max_width": null,
            "min_height": null,
            "min_width": null,
            "object_fit": null,
            "object_position": null,
            "order": null,
            "overflow": null,
            "overflow_x": null,
            "overflow_y": null,
            "padding": null,
            "right": null,
            "top": null,
            "visibility": null,
            "width": null
          }
        },
        "ab9673cc6d604621b7fdd2c06534d7b2": {
          "model_module": "@jupyter-widgets/controls",
          "model_name": "DescriptionStyleModel",
          "model_module_version": "1.5.0",
          "state": {
            "_model_module": "@jupyter-widgets/controls",
            "_model_module_version": "1.5.0",
            "_model_name": "DescriptionStyleModel",
            "_view_count": null,
            "_view_module": "@jupyter-widgets/base",
            "_view_module_version": "1.2.0",
            "_view_name": "StyleView",
            "description_width": ""
          }
        },
        "b89e6eabfec54eb8b289b9a316805b44": {
          "model_module": "@jupyter-widgets/base",
          "model_name": "LayoutModel",
          "model_module_version": "1.2.0",
          "state": {
            "_model_module": "@jupyter-widgets/base",
            "_model_module_version": "1.2.0",
            "_model_name": "LayoutModel",
            "_view_count": null,
            "_view_module": "@jupyter-widgets/base",
            "_view_module_version": "1.2.0",
            "_view_name": "LayoutView",
            "align_content": null,
            "align_items": null,
            "align_self": null,
            "border": null,
            "bottom": null,
            "display": null,
            "flex": null,
            "flex_flow": null,
            "grid_area": null,
            "grid_auto_columns": null,
            "grid_auto_flow": null,
            "grid_auto_rows": null,
            "grid_column": null,
            "grid_gap": null,
            "grid_row": null,
            "grid_template_areas": null,
            "grid_template_columns": null,
            "grid_template_rows": null,
            "height": null,
            "justify_content": null,
            "justify_items": null,
            "left": null,
            "margin": null,
            "max_height": null,
            "max_width": null,
            "min_height": null,
            "min_width": null,
            "object_fit": null,
            "object_position": null,
            "order": null,
            "overflow": null,
            "overflow_x": null,
            "overflow_y": null,
            "padding": null,
            "right": null,
            "top": null,
            "visibility": null,
            "width": null
          }
        },
        "36780ee1c2974e1793e4d56157cc77ec": {
          "model_module": "@jupyter-widgets/controls",
          "model_name": "DescriptionStyleModel",
          "model_module_version": "1.5.0",
          "state": {
            "_model_module": "@jupyter-widgets/controls",
            "_model_module_version": "1.5.0",
            "_model_name": "DescriptionStyleModel",
            "_view_count": null,
            "_view_module": "@jupyter-widgets/base",
            "_view_module_version": "1.2.0",
            "_view_name": "StyleView",
            "description_width": ""
          }
        },
        "0e8d6becc78140d5ba3bc23903178232": {
          "model_module": "@jupyter-widgets/base",
          "model_name": "LayoutModel",
          "model_module_version": "1.2.0",
          "state": {
            "_model_module": "@jupyter-widgets/base",
            "_model_module_version": "1.2.0",
            "_model_name": "LayoutModel",
            "_view_count": null,
            "_view_module": "@jupyter-widgets/base",
            "_view_module_version": "1.2.0",
            "_view_name": "LayoutView",
            "align_content": null,
            "align_items": null,
            "align_self": null,
            "border": null,
            "bottom": null,
            "display": null,
            "flex": null,
            "flex_flow": null,
            "grid_area": null,
            "grid_auto_columns": null,
            "grid_auto_flow": null,
            "grid_auto_rows": null,
            "grid_column": null,
            "grid_gap": null,
            "grid_row": null,
            "grid_template_areas": null,
            "grid_template_columns": null,
            "grid_template_rows": null,
            "height": null,
            "justify_content": null,
            "justify_items": null,
            "left": null,
            "margin": null,
            "max_height": null,
            "max_width": null,
            "min_height": null,
            "min_width": null,
            "object_fit": null,
            "object_position": null,
            "order": null,
            "overflow": null,
            "overflow_x": null,
            "overflow_y": null,
            "padding": null,
            "right": null,
            "top": null,
            "visibility": null,
            "width": null
          }
        },
        "3aa1f31f73df4d198a79de11ed02c790": {
          "model_module": "@jupyter-widgets/controls",
          "model_name": "DescriptionStyleModel",
          "model_module_version": "1.5.0",
          "state": {
            "_model_module": "@jupyter-widgets/controls",
            "_model_module_version": "1.5.0",
            "_model_name": "DescriptionStyleModel",
            "_view_count": null,
            "_view_module": "@jupyter-widgets/base",
            "_view_module_version": "1.2.0",
            "_view_name": "StyleView",
            "description_width": ""
          }
        },
        "53331e075cbe4fd094e781f1ead979b5": {
          "model_module": "@jupyter-widgets/base",
          "model_name": "LayoutModel",
          "model_module_version": "1.2.0",
          "state": {
            "_model_module": "@jupyter-widgets/base",
            "_model_module_version": "1.2.0",
            "_model_name": "LayoutModel",
            "_view_count": null,
            "_view_module": "@jupyter-widgets/base",
            "_view_module_version": "1.2.0",
            "_view_name": "LayoutView",
            "align_content": null,
            "align_items": null,
            "align_self": null,
            "border": null,
            "bottom": null,
            "display": null,
            "flex": null,
            "flex_flow": null,
            "grid_area": null,
            "grid_auto_columns": null,
            "grid_auto_flow": null,
            "grid_auto_rows": null,
            "grid_column": null,
            "grid_gap": null,
            "grid_row": null,
            "grid_template_areas": null,
            "grid_template_columns": null,
            "grid_template_rows": null,
            "height": null,
            "justify_content": null,
            "justify_items": null,
            "left": null,
            "margin": null,
            "max_height": null,
            "max_width": null,
            "min_height": null,
            "min_width": null,
            "object_fit": null,
            "object_position": null,
            "order": null,
            "overflow": null,
            "overflow_x": null,
            "overflow_y": null,
            "padding": null,
            "right": null,
            "top": null,
            "visibility": null,
            "width": null
          }
        },
        "9a12c0a3e9a345498b6220b464f3afe6": {
          "model_module": "@jupyter-widgets/controls",
          "model_name": "ButtonStyleModel",
          "model_module_version": "1.5.0",
          "state": {
            "_model_module": "@jupyter-widgets/controls",
            "_model_module_version": "1.5.0",
            "_model_name": "ButtonStyleModel",
            "_view_count": null,
            "_view_module": "@jupyter-widgets/base",
            "_view_module_version": "1.2.0",
            "_view_name": "StyleView",
            "button_color": null,
            "font_weight": ""
          }
        },
        "9331d5309b2e49429266b15675f8b880": {
          "model_module": "@jupyter-widgets/base",
          "model_name": "LayoutModel",
          "model_module_version": "1.2.0",
          "state": {
            "_model_module": "@jupyter-widgets/base",
            "_model_module_version": "1.2.0",
            "_model_name": "LayoutModel",
            "_view_count": null,
            "_view_module": "@jupyter-widgets/base",
            "_view_module_version": "1.2.0",
            "_view_name": "LayoutView",
            "align_content": null,
            "align_items": null,
            "align_self": null,
            "border": null,
            "bottom": null,
            "display": null,
            "flex": null,
            "flex_flow": null,
            "grid_area": null,
            "grid_auto_columns": null,
            "grid_auto_flow": null,
            "grid_auto_rows": null,
            "grid_column": null,
            "grid_gap": null,
            "grid_row": null,
            "grid_template_areas": null,
            "grid_template_columns": null,
            "grid_template_rows": null,
            "height": null,
            "justify_content": null,
            "justify_items": null,
            "left": null,
            "margin": null,
            "max_height": null,
            "max_width": null,
            "min_height": null,
            "min_width": null,
            "object_fit": null,
            "object_position": null,
            "order": null,
            "overflow": null,
            "overflow_x": null,
            "overflow_y": null,
            "padding": null,
            "right": null,
            "top": null,
            "visibility": null,
            "width": null
          }
        },
        "18de439b0dad45a0be88cf3eeb1713d1": {
          "model_module": "@jupyter-widgets/controls",
          "model_name": "DescriptionStyleModel",
          "model_module_version": "1.5.0",
          "state": {
            "_model_module": "@jupyter-widgets/controls",
            "_model_module_version": "1.5.0",
            "_model_name": "DescriptionStyleModel",
            "_view_count": null,
            "_view_module": "@jupyter-widgets/base",
            "_view_module_version": "1.2.0",
            "_view_name": "StyleView",
            "description_width": ""
          }
        },
        "2dddce8ddad74056af93ca5a59267321": {
          "model_module": "@jupyter-widgets/controls",
          "model_name": "LabelModel",
          "model_module_version": "1.5.0",
          "state": {
            "_dom_classes": [],
            "_model_module": "@jupyter-widgets/controls",
            "_model_module_version": "1.5.0",
            "_model_name": "LabelModel",
            "_view_count": null,
            "_view_module": "@jupyter-widgets/controls",
            "_view_module_version": "1.5.0",
            "_view_name": "LabelView",
            "description": "",
            "description_tooltip": null,
            "layout": "IPY_MODEL_7516ca3017c24f75999d91ecc490ae6f",
            "placeholder": "​",
            "style": "IPY_MODEL_b3e2c4709eb84862988e5b7a573ade77",
            "value": "Connecting..."
          }
        },
        "7516ca3017c24f75999d91ecc490ae6f": {
          "model_module": "@jupyter-widgets/base",
          "model_name": "LayoutModel",
          "model_module_version": "1.2.0",
          "state": {
            "_model_module": "@jupyter-widgets/base",
            "_model_module_version": "1.2.0",
            "_model_name": "LayoutModel",
            "_view_count": null,
            "_view_module": "@jupyter-widgets/base",
            "_view_module_version": "1.2.0",
            "_view_name": "LayoutView",
            "align_content": null,
            "align_items": null,
            "align_self": null,
            "border": null,
            "bottom": null,
            "display": null,
            "flex": null,
            "flex_flow": null,
            "grid_area": null,
            "grid_auto_columns": null,
            "grid_auto_flow": null,
            "grid_auto_rows": null,
            "grid_column": null,
            "grid_gap": null,
            "grid_row": null,
            "grid_template_areas": null,
            "grid_template_columns": null,
            "grid_template_rows": null,
            "height": null,
            "justify_content": null,
            "justify_items": null,
            "left": null,
            "margin": null,
            "max_height": null,
            "max_width": null,
            "min_height": null,
            "min_width": null,
            "object_fit": null,
            "object_position": null,
            "order": null,
            "overflow": null,
            "overflow_x": null,
            "overflow_y": null,
            "padding": null,
            "right": null,
            "top": null,
            "visibility": null,
            "width": null
          }
        },
        "b3e2c4709eb84862988e5b7a573ade77": {
          "model_module": "@jupyter-widgets/controls",
          "model_name": "DescriptionStyleModel",
          "model_module_version": "1.5.0",
          "state": {
            "_model_module": "@jupyter-widgets/controls",
            "_model_module_version": "1.5.0",
            "_model_name": "DescriptionStyleModel",
            "_view_count": null,
            "_view_module": "@jupyter-widgets/base",
            "_view_module_version": "1.2.0",
            "_view_name": "StyleView",
            "description_width": ""
          }
        }
      }
    }
  },
  "cells": [
    {
      "cell_type": "markdown",
      "metadata": {
        "id": "view-in-github",
        "colab_type": "text"
      },
      "source": [
        "<a href=\"https://colab.research.google.com/github/RahafDayoub4/agents/blob/main/RetrievalAgent.ipynb\" target=\"_parent\"><img src=\"https://colab.research.google.com/assets/colab-badge.svg\" alt=\"Open In Colab\"/></a>"
      ]
    },
    {
      "cell_type": "code",
      "source": [
        "!pip install smolagents"
      ],
      "metadata": {
        "colab": {
          "base_uri": "https://localhost:8080/"
        },
        "id": "-srH5x32Kgha",
        "outputId": "43e7cba5-0211-4639-97b9-194adefddfb4"
      },
      "execution_count": 2,
      "outputs": [
        {
          "output_type": "stream",
          "name": "stdout",
          "text": [
            "Collecting smolagents\n",
            "  Downloading smolagents-1.17.0-py3-none-any.whl.metadata (16 kB)\n",
            "Requirement already satisfied: huggingface-hub>=0.31.2 in /usr/local/lib/python3.11/dist-packages (from smolagents) (0.31.4)\n",
            "Requirement already satisfied: requests>=2.32.3 in /usr/local/lib/python3.11/dist-packages (from smolagents) (2.32.3)\n",
            "Requirement already satisfied: rich>=13.9.4 in /usr/local/lib/python3.11/dist-packages (from smolagents) (13.9.4)\n",
            "Requirement already satisfied: jinja2>=3.1.4 in /usr/local/lib/python3.11/dist-packages (from smolagents) (3.1.6)\n",
            "Requirement already satisfied: pillow>=10.0.1 in /usr/local/lib/python3.11/dist-packages (from smolagents) (11.2.1)\n",
            "Collecting python-dotenv (from smolagents)\n",
            "  Downloading python_dotenv-1.1.0-py3-none-any.whl.metadata (24 kB)\n",
            "Requirement already satisfied: filelock in /usr/local/lib/python3.11/dist-packages (from huggingface-hub>=0.31.2->smolagents) (3.18.0)\n",
            "Requirement already satisfied: fsspec>=2023.5.0 in /usr/local/lib/python3.11/dist-packages (from huggingface-hub>=0.31.2->smolagents) (2025.3.2)\n",
            "Requirement already satisfied: packaging>=20.9 in /usr/local/lib/python3.11/dist-packages (from huggingface-hub>=0.31.2->smolagents) (24.2)\n",
            "Requirement already satisfied: pyyaml>=5.1 in /usr/local/lib/python3.11/dist-packages (from huggingface-hub>=0.31.2->smolagents) (6.0.2)\n",
            "Requirement already satisfied: tqdm>=4.42.1 in /usr/local/lib/python3.11/dist-packages (from huggingface-hub>=0.31.2->smolagents) (4.67.1)\n",
            "Requirement already satisfied: typing-extensions>=3.7.4.3 in /usr/local/lib/python3.11/dist-packages (from huggingface-hub>=0.31.2->smolagents) (4.13.2)\n",
            "Requirement already satisfied: MarkupSafe>=2.0 in /usr/local/lib/python3.11/dist-packages (from jinja2>=3.1.4->smolagents) (3.0.2)\n",
            "Requirement already satisfied: charset-normalizer<4,>=2 in /usr/local/lib/python3.11/dist-packages (from requests>=2.32.3->smolagents) (3.4.2)\n",
            "Requirement already satisfied: idna<4,>=2.5 in /usr/local/lib/python3.11/dist-packages (from requests>=2.32.3->smolagents) (3.10)\n",
            "Requirement already satisfied: urllib3<3,>=1.21.1 in /usr/local/lib/python3.11/dist-packages (from requests>=2.32.3->smolagents) (2.4.0)\n",
            "Requirement already satisfied: certifi>=2017.4.17 in /usr/local/lib/python3.11/dist-packages (from requests>=2.32.3->smolagents) (2025.4.26)\n",
            "Requirement already satisfied: markdown-it-py>=2.2.0 in /usr/local/lib/python3.11/dist-packages (from rich>=13.9.4->smolagents) (3.0.0)\n",
            "Requirement already satisfied: pygments<3.0.0,>=2.13.0 in /usr/local/lib/python3.11/dist-packages (from rich>=13.9.4->smolagents) (2.19.1)\n",
            "Requirement already satisfied: mdurl~=0.1 in /usr/local/lib/python3.11/dist-packages (from markdown-it-py>=2.2.0->rich>=13.9.4->smolagents) (0.1.2)\n",
            "Downloading smolagents-1.17.0-py3-none-any.whl (133 kB)\n",
            "\u001b[2K   \u001b[90m━━━━━━━━━━━━━━━━━━━━━━━━━━━━━━━━━━━━━━━━\u001b[0m \u001b[32m134.0/134.0 kB\u001b[0m \u001b[31m17.2 MB/s\u001b[0m eta \u001b[36m0:00:00\u001b[0m\n",
            "\u001b[?25hDownloading python_dotenv-1.1.0-py3-none-any.whl (20 kB)\n",
            "Installing collected packages: python-dotenv, smolagents\n",
            "Successfully installed python-dotenv-1.1.0 smolagents-1.17.0\n"
          ]
        }
      ]
    },
    {
      "cell_type": "code",
      "source": [
        "from huggingface_hub import notebook_login\n",
        "\n",
        "notebook_login()"
      ],
      "metadata": {
        "colab": {
          "base_uri": "https://localhost:8080/",
          "height": 17,
          "referenced_widgets": [
            "3cda3c2be1db4c7aa9710fdb26ad3d23",
            "8c7566f8b88740bf9e28cb16932ff367",
            "94283e226a5e4f018fe5375a25e0c64a",
            "ee6d87122baa4e21b18fb23927bb4687",
            "1f8d440e4c154fe6969c5c32018ae767",
            "b0bf84894d7a4428a4d5bdb8cfbd7a4a",
            "b432e4910471453197bd368a08996f14",
            "c4089a03ab98499d916a67efcecba652",
            "ab9673cc6d604621b7fdd2c06534d7b2",
            "b89e6eabfec54eb8b289b9a316805b44",
            "36780ee1c2974e1793e4d56157cc77ec",
            "0e8d6becc78140d5ba3bc23903178232",
            "3aa1f31f73df4d198a79de11ed02c790",
            "53331e075cbe4fd094e781f1ead979b5",
            "9a12c0a3e9a345498b6220b464f3afe6",
            "9331d5309b2e49429266b15675f8b880",
            "18de439b0dad45a0be88cf3eeb1713d1",
            "2dddce8ddad74056af93ca5a59267321",
            "7516ca3017c24f75999d91ecc490ae6f",
            "b3e2c4709eb84862988e5b7a573ade77"
          ]
        },
        "id": "GGr5Vh9mKiuc",
        "outputId": "d31f95ae-1301-4887-e2f2-5ae9c845024d"
      },
      "execution_count": 6,
      "outputs": [
        {
          "output_type": "display_data",
          "data": {
            "text/plain": [
              "VBox(children=(HTML(value='<center> <img\\nsrc=https://huggingface.co/front/assets/huggingface_logo-noborder.sv…"
            ],
            "application/vnd.jupyter.widget-view+json": {
              "version_major": 2,
              "version_minor": 0,
              "model_id": "3cda3c2be1db4c7aa9710fdb26ad3d23"
            }
          },
          "metadata": {}
        }
      ]
    },
    {
      "cell_type": "code",
      "source": [
        "!pip install duckduckgo-search\n"
      ],
      "metadata": {
        "colab": {
          "base_uri": "https://localhost:8080/"
        },
        "id": "zU2s2tQLMmNr",
        "outputId": "90d5b2a9-e790-4f18-aa64-e3a489f61900"
      },
      "execution_count": 7,
      "outputs": [
        {
          "output_type": "stream",
          "name": "stdout",
          "text": [
            "Collecting duckduckgo-search\n",
            "  Downloading duckduckgo_search-8.0.2-py3-none-any.whl.metadata (16 kB)\n",
            "Requirement already satisfied: click>=8.1.8 in /usr/local/lib/python3.11/dist-packages (from duckduckgo-search) (8.2.1)\n",
            "Collecting primp>=0.15.0 (from duckduckgo-search)\n",
            "  Downloading primp-0.15.0-cp38-abi3-manylinux_2_17_x86_64.manylinux2014_x86_64.whl.metadata (13 kB)\n",
            "Requirement already satisfied: lxml>=5.3.0 in /usr/local/lib/python3.11/dist-packages (from duckduckgo-search) (5.4.0)\n",
            "Downloading duckduckgo_search-8.0.2-py3-none-any.whl (18 kB)\n",
            "Downloading primp-0.15.0-cp38-abi3-manylinux_2_17_x86_64.manylinux2014_x86_64.whl (3.3 MB)\n",
            "\u001b[?25l   \u001b[90m━━━━━━━━━━━━━━━━━━━━━━━━━━━━━━━━━━━━━━━━\u001b[0m \u001b[32m0.0/3.3 MB\u001b[0m \u001b[31m?\u001b[0m eta \u001b[36m-:--:--\u001b[0m\r\u001b[2K   \u001b[90m━━━━━━━━━━━━━━━━━━━━━━━━━━━━━━━━━━━━━━━━\u001b[0m \u001b[32m3.3/3.3 MB\u001b[0m \u001b[31m104.5 MB/s\u001b[0m eta \u001b[36m0:00:00\u001b[0m\n",
            "\u001b[?25hInstalling collected packages: primp, duckduckgo-search\n",
            "Successfully installed duckduckgo-search-8.0.2 primp-0.15.0\n"
          ]
        }
      ]
    },
    {
      "cell_type": "code",
      "execution_count": 8,
      "metadata": {
        "colab": {
          "base_uri": "https://localhost:8080/",
          "height": 1000
        },
        "id": "4aGCzZwJJ7_S",
        "outputId": "4c785042-ef42-4dcf-9257-543f1d361952"
      },
      "outputs": [
        {
          "output_type": "display_data",
          "data": {
            "text/plain": [
              "\u001b[38;2;212;183;2m╭─\u001b[0m\u001b[38;2;212;183;2m───────────────────────────────────────────────────\u001b[0m\u001b[38;2;212;183;2m \u001b[0m\u001b[1;38;2;212;183;2mNew run\u001b[0m\u001b[38;2;212;183;2m \u001b[0m\u001b[38;2;212;183;2m───────────────────────────────────────────────────\u001b[0m\u001b[38;2;212;183;2m─╮\u001b[0m\n",
              "\u001b[38;2;212;183;2m│\u001b[0m                                                                                                                 \u001b[38;2;212;183;2m│\u001b[0m\n",
              "\u001b[38;2;212;183;2m│\u001b[0m \u001b[1mSearch for luxury superhero-themed party ideas, including decorations, entertainment, and catering.\u001b[0m             \u001b[38;2;212;183;2m│\u001b[0m\n",
              "\u001b[38;2;212;183;2m│\u001b[0m                                                                                                                 \u001b[38;2;212;183;2m│\u001b[0m\n",
              "\u001b[38;2;212;183;2m╰─\u001b[0m\u001b[38;2;212;183;2m InferenceClientModel - Qwen/Qwen2.5-Coder-32B-Instruct \u001b[0m\u001b[38;2;212;183;2m───────────────────────────────────────────────────────\u001b[0m\u001b[38;2;212;183;2m─╯\u001b[0m\n"
            ],
            "text/html": [
              "<pre style=\"white-space:pre;overflow-x:auto;line-height:normal;font-family:Menlo,'DejaVu Sans Mono',consolas,'Courier New',monospace\"><span style=\"color: #d4b702; text-decoration-color: #d4b702\">╭──────────────────────────────────────────────────── </span><span style=\"color: #d4b702; text-decoration-color: #d4b702; font-weight: bold\">New run</span><span style=\"color: #d4b702; text-decoration-color: #d4b702\"> ────────────────────────────────────────────────────╮</span>\n",
              "<span style=\"color: #d4b702; text-decoration-color: #d4b702\">│</span>                                                                                                                 <span style=\"color: #d4b702; text-decoration-color: #d4b702\">│</span>\n",
              "<span style=\"color: #d4b702; text-decoration-color: #d4b702\">│</span> <span style=\"font-weight: bold\">Search for luxury superhero-themed party ideas, including decorations, entertainment, and catering.</span>             <span style=\"color: #d4b702; text-decoration-color: #d4b702\">│</span>\n",
              "<span style=\"color: #d4b702; text-decoration-color: #d4b702\">│</span>                                                                                                                 <span style=\"color: #d4b702; text-decoration-color: #d4b702\">│</span>\n",
              "<span style=\"color: #d4b702; text-decoration-color: #d4b702\">╰─ InferenceClientModel - Qwen/Qwen2.5-Coder-32B-Instruct ────────────────────────────────────────────────────────╯</span>\n",
              "</pre>\n"
            ]
          },
          "metadata": {}
        },
        {
          "output_type": "display_data",
          "data": {
            "text/plain": [
              "\u001b[38;2;212;183;2m━━━━━━━━━━━━━━━━━━━━━━━━━━━━━━━━━━━━━━━━━━━━━━━━━━━━━ \u001b[0m\u001b[1mStep \u001b[0m\u001b[1;36m1\u001b[0m\u001b[38;2;212;183;2m ━━━━━━━━━━━━━━━━━━━━━━━━━━━━━━━━━━━━━━━━━━━━━━━━━━━━━━\u001b[0m\n"
            ],
            "text/html": [
              "<pre style=\"white-space:pre;overflow-x:auto;line-height:normal;font-family:Menlo,'DejaVu Sans Mono',consolas,'Courier New',monospace\"><span style=\"color: #d4b702; text-decoration-color: #d4b702\">━━━━━━━━━━━━━━━━━━━━━━━━━━━━━━━━━━━━━━━━━━━━━━━━━━━━━ </span><span style=\"font-weight: bold\">Step </span><span style=\"color: #008080; text-decoration-color: #008080; font-weight: bold\">1</span><span style=\"color: #d4b702; text-decoration-color: #d4b702\"> ━━━━━━━━━━━━━━━━━━━━━━━━━━━━━━━━━━━━━━━━━━━━━━━━━━━━━━</span>\n",
              "</pre>\n"
            ]
          },
          "metadata": {}
        },
        {
          "output_type": "stream",
          "name": "stderr",
          "text": [
            "/usr/local/lib/python3.11/dist-packages/huggingface_hub/utils/_auth.py:94: UserWarning: \n",
            "The secret `HF_TOKEN` does not exist in your Colab secrets.\n",
            "To authenticate with the Hugging Face Hub, create a token in your settings tab (https://huggingface.co/settings/tokens), set it as secret in your Google Colab and restart your session.\n",
            "You will be able to reuse this secret in all of your notebooks.\n",
            "Please note that authentication is recommended but still optional to access public models or datasets.\n",
            "  warnings.warn(\n"
          ]
        },
        {
          "output_type": "display_data",
          "data": {
            "text/plain": [
              " ─ \u001b[1mExecuting parsed code:\u001b[0m ──────────────────────────────────────────────────────────────────────────────────────── \n",
              "  \u001b[38;2;248;248;242;48;2;39;40;34msearch_results\u001b[0m\u001b[38;2;248;248;242;48;2;39;40;34m \u001b[0m\u001b[38;2;255;70;137;48;2;39;40;34m=\u001b[0m\u001b[38;2;248;248;242;48;2;39;40;34m \u001b[0m\u001b[38;2;248;248;242;48;2;39;40;34mweb_search\u001b[0m\u001b[38;2;248;248;242;48;2;39;40;34m(\u001b[0m\u001b[38;2;248;248;242;48;2;39;40;34mquery\u001b[0m\u001b[38;2;255;70;137;48;2;39;40;34m=\u001b[0m\u001b[38;2;230;219;116;48;2;39;40;34m\"\u001b[0m\u001b[38;2;230;219;116;48;2;39;40;34mluxury superhero-themed party ideas\u001b[0m\u001b[38;2;230;219;116;48;2;39;40;34m\"\u001b[0m\u001b[38;2;248;248;242;48;2;39;40;34m)\u001b[0m\u001b[48;2;39;40;34m                                       \u001b[0m  \n",
              "  \u001b[38;2;248;248;242;48;2;39;40;34mprint\u001b[0m\u001b[38;2;248;248;242;48;2;39;40;34m(\u001b[0m\u001b[38;2;248;248;242;48;2;39;40;34msearch_results\u001b[0m\u001b[38;2;248;248;242;48;2;39;40;34m)\u001b[0m\u001b[48;2;39;40;34m                                                                                          \u001b[0m  \n",
              " ───────────────────────────────────────────────────────────────────────────────────────────────────────────────── \n"
            ],
            "text/html": [
              "<pre style=\"white-space:pre;overflow-x:auto;line-height:normal;font-family:Menlo,'DejaVu Sans Mono',consolas,'Courier New',monospace\"> ─ <span style=\"font-weight: bold\">Executing parsed code:</span> ──────────────────────────────────────────────────────────────────────────────────────── \n",
              "  <span style=\"color: #f8f8f2; text-decoration-color: #f8f8f2; background-color: #272822\">search_results </span><span style=\"color: #ff4689; text-decoration-color: #ff4689; background-color: #272822\">=</span><span style=\"color: #f8f8f2; text-decoration-color: #f8f8f2; background-color: #272822\"> web_search(query</span><span style=\"color: #ff4689; text-decoration-color: #ff4689; background-color: #272822\">=</span><span style=\"color: #e6db74; text-decoration-color: #e6db74; background-color: #272822\">\"luxury superhero-themed party ideas\"</span><span style=\"color: #f8f8f2; text-decoration-color: #f8f8f2; background-color: #272822\">)</span><span style=\"background-color: #272822\">                                       </span>  \n",
              "  <span style=\"color: #f8f8f2; text-decoration-color: #f8f8f2; background-color: #272822\">print(search_results)</span><span style=\"background-color: #272822\">                                                                                          </span>  \n",
              " ───────────────────────────────────────────────────────────────────────────────────────────────────────────────── \n",
              "</pre>\n"
            ]
          },
          "metadata": {}
        },
        {
          "output_type": "display_data",
          "data": {
            "text/plain": [
              "\u001b[1mExecution logs:\u001b[0m\n",
              "## Search Results\n",
              "\n",
              "[24 Superhero Party Ideas that Will Make You Wish You Were a \n",
              "Kid](https://howdoesshe.com/24-incredible-superhero-party-ideas-that-will-make-you-wish-you-were-a-kid-again/)\n",
              "Let your superman show his own superpowers!Kids (and even adults) who love superheroes will fall in love with these\n",
              "incredible superhero theme party ideas that will bring out the kid in everyone! From decor ideas, party foods, and \n",
              "costume ideas to superhero-themed activities and superhero games, we have different ways to cover all of your party\n",
              "needs. These ideas will make you wish you were a ...\n",
              "\n",
              "[25 Superhero Party Ideas For All Ages](https://playideas.com/25-superhero-party-ideas/)\n",
              "These super cool superhero theme party ideas are so much fun and perfect for all ages! Boy, girl, teen, or adult, \n",
              "it doesn't matter. They are perfect for your next superhero-themed food and party! We have found some amazingly \n",
              "fantastic party ideas from treats, decor, crafts to souvenirs for different sorts of superheroes, from Batman, \n",
              "Super ...\n",
              "\n",
              "[The Best Superhero Party Ideas For An Epic Party - Smart Party \n",
              "Planning](https://smartpartyplanning.com/superhero-party-ideas/)\n",
              "Awesome superhero party ideas that will have your kids showing off their superhero powers in no time at all. With \n",
              "ideas for decorations, food and party games you will easily win the status of superhero mom. These ideas can be \n",
              "achieved on a budget with a bit of DIY. The kids are going to love them. Related articles: 5 Awesome Batman Party \n",
              "Ideas\n",
              "\n",
              "[30+ Superhero Party Ideas - Canva](https://www.canva.com/ideas/superhero-party-ideas/)\n",
              "Browse a wide range of superhero party ideas and inspiration, from photos and templates in a stunning selection of \n",
              "styles and colours. ... all these ingenious concepts and more are in our special selection of superhero-themed \n",
              "designs and photos. Have a quick browse and find some excellent ideas for your party! Yellow Blue Red Superhero \n",
              "Pattern ...\n",
              "\n",
              "[Superhero Theme Party Ideas for Adults to Create an Unforgettable \n",
              "...](https://partyideaszone.com/superhero-theme-party-ideas-for-adults/)\n",
              "Unleash your inner hero with our ultimate guide to hosting an unforgettable superhero-themed party for adults! \n",
              "Explore creative costume ideas, vibrant decorations, and mouthwatering themed snacks and drinks. Engage your guests\n",
              "with fun activities like trivia, costume contests, and movie screenings. Follow our planning tips to create a \n",
              "cohesive, memorable experience that your friends will rave ...\n",
              "\n",
              "[By a Pro: Superhero Party Ideas by a Professional](https://party-ideas-by-a-pro.com/party-themes/superhero-party/)\n",
              "Patriotic 4th of July recipes can easily be repurposed as Captain America themed Superhero party food, such as \n",
              "these recipes for Red, White, and Blue Chocolate Dipped Strawberries (below left, by Nicole at Baking Bites) or \n",
              "Jell-O cut into star shapes (below right, by Ali from Gimme Some Oven).\n",
              "\n",
              "[30+ Easy Superhero Party Ideas You Can Perfect on a \n",
              "Budget](https://www.frugalcouponliving.com/superhero-party-ideas/)\n",
              "Enjoy the best DIY superhero party ideas, recipes, décor, games and more to make planning a party easy-peasy. \n",
              "Planning a themed party can be a lot of fun. And with so many popular Marvel, Avengers and DC movies being released\n",
              "in recent years, it's no wonder that superhero parties are becoming increasingly popular.\n",
              "\n",
              "[Superhero-Themed Party Ideas & Decorations | \n",
              "CORKCICLE.](https://corkcicle.com/blogs/lifestyle/marvel-themed-party-ideas)\n",
              "Superhero-themed parties have become a beloved trend, offering an exciting way to celebrate special occasions. The \n",
              "thrill of donning capes and masks, the vibrant decorations, and the heroic atmosphere make these parties a hit \n",
              "among kids and adults alike. In this guide, we'll explore Marvel superhero party ideas, ensuring your celebration \n",
              "is as epic as the comics and movies themselves ...\n",
              "\n",
              "[Best Superhero Party Theme Ideas - Captain \n",
              "Fantastic](https://captain-fantastic.co.uk/blog/best-superhero-party-theme-ideas/)\n",
              "Superhero Party Theme Ideas Superhero Costume Extravaganza: Dress as Your Favorite Hero. Gear up for the ultimate \n",
              "adventure at the Superhero Costume Extravaganza - a pinnacle in the realm of excitement. Dive into the magic as you\n",
              "and your guests transform into beloved heroes, unleashing a world of imagination. Whether you don the cape of a ...\n",
              "\n",
              "[An Epic Adventure: The Ultimate Superhero Birthday Party \n",
              "Guide](https://modernmommsie.com/superhero-birthday-party-guide/)\n",
              "A Superhero birthday party is an action-packed way to celebrate any child's birthday, bringing to life the \n",
              "thrilling world of caped crusaders and daring adventurers. Here's how to create a day filled with heroics, fun, and\n",
              "super-powered excitement! Invitation to the League of Superheroes. Kick off the excitement with dynamic invitations\n",
              "calling all young heroes to assemble for a day of ...\n",
              "\n",
              "Out: None\n"
            ],
            "text/html": [
              "<pre style=\"white-space:pre;overflow-x:auto;line-height:normal;font-family:Menlo,'DejaVu Sans Mono',consolas,'Courier New',monospace\"><span style=\"font-weight: bold\">Execution logs:</span>\n",
              "## Search Results\n",
              "\n",
              "[24 Superhero Party Ideas that Will Make You Wish You Were a \n",
              "Kid](https://howdoesshe.com/24-incredible-superhero-party-ideas-that-will-make-you-wish-you-were-a-kid-again/)\n",
              "Let your superman show his own superpowers!Kids (and even adults) who love superheroes will fall in love with these\n",
              "incredible superhero theme party ideas that will bring out the kid in everyone! From decor ideas, party foods, and \n",
              "costume ideas to superhero-themed activities and superhero games, we have different ways to cover all of your party\n",
              "needs. These ideas will make you wish you were a ...\n",
              "\n",
              "[25 Superhero Party Ideas For All Ages](https://playideas.com/25-superhero-party-ideas/)\n",
              "These super cool superhero theme party ideas are so much fun and perfect for all ages! Boy, girl, teen, or adult, \n",
              "it doesn't matter. They are perfect for your next superhero-themed food and party! We have found some amazingly \n",
              "fantastic party ideas from treats, decor, crafts to souvenirs for different sorts of superheroes, from Batman, \n",
              "Super ...\n",
              "\n",
              "[The Best Superhero Party Ideas For An Epic Party - Smart Party \n",
              "Planning](https://smartpartyplanning.com/superhero-party-ideas/)\n",
              "Awesome superhero party ideas that will have your kids showing off their superhero powers in no time at all. With \n",
              "ideas for decorations, food and party games you will easily win the status of superhero mom. These ideas can be \n",
              "achieved on a budget with a bit of DIY. The kids are going to love them. Related articles: 5 Awesome Batman Party \n",
              "Ideas\n",
              "\n",
              "[30+ Superhero Party Ideas - Canva](https://www.canva.com/ideas/superhero-party-ideas/)\n",
              "Browse a wide range of superhero party ideas and inspiration, from photos and templates in a stunning selection of \n",
              "styles and colours. ... all these ingenious concepts and more are in our special selection of superhero-themed \n",
              "designs and photos. Have a quick browse and find some excellent ideas for your party! Yellow Blue Red Superhero \n",
              "Pattern ...\n",
              "\n",
              "[Superhero Theme Party Ideas for Adults to Create an Unforgettable \n",
              "...](https://partyideaszone.com/superhero-theme-party-ideas-for-adults/)\n",
              "Unleash your inner hero with our ultimate guide to hosting an unforgettable superhero-themed party for adults! \n",
              "Explore creative costume ideas, vibrant decorations, and mouthwatering themed snacks and drinks. Engage your guests\n",
              "with fun activities like trivia, costume contests, and movie screenings. Follow our planning tips to create a \n",
              "cohesive, memorable experience that your friends will rave ...\n",
              "\n",
              "[By a Pro: Superhero Party Ideas by a Professional](https://party-ideas-by-a-pro.com/party-themes/superhero-party/)\n",
              "Patriotic 4th of July recipes can easily be repurposed as Captain America themed Superhero party food, such as \n",
              "these recipes for Red, White, and Blue Chocolate Dipped Strawberries (below left, by Nicole at Baking Bites) or \n",
              "Jell-O cut into star shapes (below right, by Ali from Gimme Some Oven).\n",
              "\n",
              "[30+ Easy Superhero Party Ideas You Can Perfect on a \n",
              "Budget](https://www.frugalcouponliving.com/superhero-party-ideas/)\n",
              "Enjoy the best DIY superhero party ideas, recipes, décor, games and more to make planning a party easy-peasy. \n",
              "Planning a themed party can be a lot of fun. And with so many popular Marvel, Avengers and DC movies being released\n",
              "in recent years, it's no wonder that superhero parties are becoming increasingly popular.\n",
              "\n",
              "[Superhero-Themed Party Ideas &amp; Decorations | \n",
              "CORKCICLE.](https://corkcicle.com/blogs/lifestyle/marvel-themed-party-ideas)\n",
              "Superhero-themed parties have become a beloved trend, offering an exciting way to celebrate special occasions. The \n",
              "thrill of donning capes and masks, the vibrant decorations, and the heroic atmosphere make these parties a hit \n",
              "among kids and adults alike. In this guide, we'll explore Marvel superhero party ideas, ensuring your celebration \n",
              "is as epic as the comics and movies themselves ...\n",
              "\n",
              "[Best Superhero Party Theme Ideas - Captain \n",
              "Fantastic](https://captain-fantastic.co.uk/blog/best-superhero-party-theme-ideas/)\n",
              "Superhero Party Theme Ideas Superhero Costume Extravaganza: Dress as Your Favorite Hero. Gear up for the ultimate \n",
              "adventure at the Superhero Costume Extravaganza - a pinnacle in the realm of excitement. Dive into the magic as you\n",
              "and your guests transform into beloved heroes, unleashing a world of imagination. Whether you don the cape of a ...\n",
              "\n",
              "[An Epic Adventure: The Ultimate Superhero Birthday Party \n",
              "Guide](https://modernmommsie.com/superhero-birthday-party-guide/)\n",
              "A Superhero birthday party is an action-packed way to celebrate any child's birthday, bringing to life the \n",
              "thrilling world of caped crusaders and daring adventurers. Here's how to create a day filled with heroics, fun, and\n",
              "super-powered excitement! Invitation to the League of Superheroes. Kick off the excitement with dynamic invitations\n",
              "calling all young heroes to assemble for a day of ...\n",
              "\n",
              "Out: None\n",
              "</pre>\n"
            ]
          },
          "metadata": {}
        },
        {
          "output_type": "display_data",
          "data": {
            "text/plain": [
              "\u001b[2m[Step 1: Duration 4.42 seconds| Input tokens: 2,053 | Output tokens: 69]\u001b[0m\n"
            ],
            "text/html": [
              "<pre style=\"white-space:pre;overflow-x:auto;line-height:normal;font-family:Menlo,'DejaVu Sans Mono',consolas,'Courier New',monospace\"><span style=\"color: #7f7f7f; text-decoration-color: #7f7f7f\">[Step 1: Duration 4.42 seconds| Input tokens: 2,053 | Output tokens: 69]</span>\n",
              "</pre>\n"
            ]
          },
          "metadata": {}
        },
        {
          "output_type": "display_data",
          "data": {
            "text/plain": [
              "\u001b[38;2;212;183;2m━━━━━━━━━━━━━━━━━━━━━━━━━━━━━━━━━━━━━━━━━━━━━━━━━━━━━ \u001b[0m\u001b[1mStep \u001b[0m\u001b[1;36m2\u001b[0m\u001b[38;2;212;183;2m ━━━━━━━━━━━━━━━━━━━━━━━━━━━━━━━━━━━━━━━━━━━━━━━━━━━━━━\u001b[0m\n"
            ],
            "text/html": [
              "<pre style=\"white-space:pre;overflow-x:auto;line-height:normal;font-family:Menlo,'DejaVu Sans Mono',consolas,'Courier New',monospace\"><span style=\"color: #d4b702; text-decoration-color: #d4b702\">━━━━━━━━━━━━━━━━━━━━━━━━━━━━━━━━━━━━━━━━━━━━━━━━━━━━━ </span><span style=\"font-weight: bold\">Step </span><span style=\"color: #008080; text-decoration-color: #008080; font-weight: bold\">2</span><span style=\"color: #d4b702; text-decoration-color: #d4b702\"> ━━━━━━━━━━━━━━━━━━━━━━━━━━━━━━━━━━━━━━━━━━━━━━━━━━━━━━</span>\n",
              "</pre>\n"
            ]
          },
          "metadata": {}
        },
        {
          "output_type": "display_data",
          "data": {
            "text/plain": [
              " ─ \u001b[1mExecuting parsed code:\u001b[0m ──────────────────────────────────────────────────────────────────────────────────────── \n",
              "  \u001b[38;2;248;248;242;48;2;39;40;34murl\u001b[0m\u001b[38;2;248;248;242;48;2;39;40;34m \u001b[0m\u001b[38;2;255;70;137;48;2;39;40;34m=\u001b[0m\u001b[38;2;248;248;242;48;2;39;40;34m \u001b[0m\u001b[48;2;39;40;34m                                                                                                         \u001b[0m  \n",
              "  \u001b[38;2;230;219;116;48;2;39;40;34m\"\u001b[0m\u001b[38;2;230;219;116;48;2;39;40;34mhttps://howdoesshe.com/24-incredible-superhero-party-ideas-that-will-make-you-wish-you-were-a-kid-again/\u001b[0m\u001b[38;2;230;219;116;48;2;39;40;34m\"\u001b[0m\u001b[48;2;39;40;34m     \u001b[0m  \n",
              "  \u001b[38;2;248;248;242;48;2;39;40;34mpage_content\u001b[0m\u001b[38;2;248;248;242;48;2;39;40;34m \u001b[0m\u001b[38;2;255;70;137;48;2;39;40;34m=\u001b[0m\u001b[38;2;248;248;242;48;2;39;40;34m \u001b[0m\u001b[38;2;248;248;242;48;2;39;40;34mweb_search\u001b[0m\u001b[38;2;248;248;242;48;2;39;40;34m(\u001b[0m\u001b[38;2;248;248;242;48;2;39;40;34mquery\u001b[0m\u001b[38;2;255;70;137;48;2;39;40;34m=\u001b[0m\u001b[38;2;248;248;242;48;2;39;40;34murl\u001b[0m\u001b[38;2;248;248;242;48;2;39;40;34m)\u001b[0m\u001b[48;2;39;40;34m                                                                           \u001b[0m  \n",
              "  \u001b[38;2;248;248;242;48;2;39;40;34mprint\u001b[0m\u001b[38;2;248;248;242;48;2;39;40;34m(\u001b[0m\u001b[38;2;248;248;242;48;2;39;40;34mpage_content\u001b[0m\u001b[38;2;248;248;242;48;2;39;40;34m)\u001b[0m\u001b[48;2;39;40;34m                                                                                            \u001b[0m  \n",
              " ───────────────────────────────────────────────────────────────────────────────────────────────────────────────── \n"
            ],
            "text/html": [
              "<pre style=\"white-space:pre;overflow-x:auto;line-height:normal;font-family:Menlo,'DejaVu Sans Mono',consolas,'Courier New',monospace\"> ─ <span style=\"font-weight: bold\">Executing parsed code:</span> ──────────────────────────────────────────────────────────────────────────────────────── \n",
              "  <span style=\"color: #f8f8f2; text-decoration-color: #f8f8f2; background-color: #272822\">url </span><span style=\"color: #ff4689; text-decoration-color: #ff4689; background-color: #272822\">=</span><span style=\"color: #f8f8f2; text-decoration-color: #f8f8f2; background-color: #272822\"> </span><span style=\"background-color: #272822\">                                                                                                         </span>  \n",
              "  <span style=\"color: #e6db74; text-decoration-color: #e6db74; background-color: #272822\">\"https://howdoesshe.com/24-incredible-superhero-party-ideas-that-will-make-you-wish-you-were-a-kid-again/\"</span><span style=\"background-color: #272822\">     </span>  \n",
              "  <span style=\"color: #f8f8f2; text-decoration-color: #f8f8f2; background-color: #272822\">page_content </span><span style=\"color: #ff4689; text-decoration-color: #ff4689; background-color: #272822\">=</span><span style=\"color: #f8f8f2; text-decoration-color: #f8f8f2; background-color: #272822\"> web_search(query</span><span style=\"color: #ff4689; text-decoration-color: #ff4689; background-color: #272822\">=</span><span style=\"color: #f8f8f2; text-decoration-color: #f8f8f2; background-color: #272822\">url)</span><span style=\"background-color: #272822\">                                                                           </span>  \n",
              "  <span style=\"color: #f8f8f2; text-decoration-color: #f8f8f2; background-color: #272822\">print(page_content)</span><span style=\"background-color: #272822\">                                                                                            </span>  \n",
              " ───────────────────────────────────────────────────────────────────────────────────────────────────────────────── \n",
              "</pre>\n"
            ]
          },
          "metadata": {}
        },
        {
          "output_type": "display_data",
          "data": {
            "text/plain": [
              "\u001b[1mExecution logs:\u001b[0m\n",
              "## Search Results\n",
              "\n",
              "[24 Superhero Party Ideas that Will Make You Wish You Were a \n",
              "Kid](https://howdoesshe.com/24-incredible-superhero-party-ideas-that-will-make-you-wish-you-were-a-kid-again/)\n",
              "Let your superman show his own superpowers!Kids (and even adults) who love superheroes will fall in love with these\n",
              "incredible superhero theme party ideas that will bring out the kid in everyone! From decor ideas, party foods, and \n",
              "costume ideas to superhero-themed activities and superhero games, we have different ways to cover all of your party\n",
              "needs. These ideas will make you wish you were a ...\n",
              "\n",
              "[24 Incredible Superhero Party Ideas that Will Make You Wish You Were a \n",
              "...](https://www.pinterest.com/pin/255508978837632630/)\n",
              "24 incredible superhero party ideas that kids will love and make adults wish they were kids again. From decor \n",
              "ideas, party foods, and costume ideas to superhero-themed activities, we have all of your party needs covered.\n",
              "\n",
              "[Check out These Fantastic 14 Must-See Superhero Party \n",
              "Ideas!](https://www.catchmyparty.com/blog/14-must-see-superhero-party-ideas)\n",
              "So, if you have a little boy or a young man dying for a superhero party, you won't want to miss these 14 must-see \n",
              "superhero party ideas. They will no doubt inspire you and give you great ideas! You'll find ideas for a dessert \n",
              "table, a city skyline backdrop, a superhero birthday cake, and even some FREE superhero printables!! Check out \n",
              "These ...\n",
              "\n",
              "[33 Best Superhero Party Ideas & Supplies! - YouTube](https://www.youtube.com/watch?v=6teddFZ5Fwk)\n",
              "Here we are to save the day, with superhero party ideas on the way! Discover more great party ideas at \n",
              "SharingPartyIdeas.com! Printable superhero backdrop: ...\n",
              "\n",
              "[15 Superhero Party Games and Activities for Your Little Avenger - The \n",
              "Dad](https://www.thedad.com/superhero-party-games/)\n",
              "Then you'll realize that a lot of the superhero games and activities your child wants are kind of dangerous for \n",
              "those without superpowers, and primarily involve climbing and/or jumping off of things. But don't worry: there are \n",
              "plenty of superhero-themed activities and party games that are perfectly safe and somehow, still really fun.\n",
              "\n",
              "[The Best Superhero Party Ideas For An Epic Party - Smart Party \n",
              "Planning](https://smartpartyplanning.com/superhero-party-ideas/)\n",
              "It is always recommended to have a party backdrop behind your food table. This backdrop can also be used as a photo\n",
              "booth. Choose 3 colors to create the backdrop. If you don't want to create your own backdrop, you could purchase a \n",
              "skyline scene setter.. An easy way to give instant superhero appeal is to create buildings either on the food table\n",
              "or around the party area.\n",
              "\n",
              "[Fun With Kids - | How Does She](https://howdoesshe.com/category/family/fun-with-kids/)\n",
              "24 Incredible Superhero Party Ideas that Will Make You Wish You Were a Kid Again! Disclosure: This post may contain\n",
              "affiliate links. This means, we may receive a small commission if you choose to purchase something from a link we \n",
              "post (including links to amazon.com because we are a participant in the Amazon Services LLC Associates Program.)\n",
              "\n",
              "[25 Superhero Party Ideas For All Ages](https://playideas.com/25-superhero-party-ideas/)\n",
              "DIY Super Hero Jello Party Snack Ideas. ... Green Incredible Hulk Punch Party Snack Ideas. Make your party a SMASH \n",
              "with this delicious Green Incredible Hulk Punch! This punch is perfect for adding a refreshing taste to any kids \n",
              "super hero or Hulk themed party food. ... 24. Cool Batman Flashlight Party Souvenir. Send a call out to Batman with\n",
              "...\n",
              "\n",
              "[48 Marvel-ous Avengers Superhero Party Ideas - No-Guilt \n",
              "Life](https://noguiltlife.com/marvel-avengers-party-ideas-superhero-party-ideas/)\n",
              "Superhero Party Ideas: 8 Ways to Drink Like an Avenger. Saving the day-or the party- can make you thirsty! Drink \n",
              "like an Avenger with these 8 superhero party drinks. Non-Alcoholic and alcoholic options included for superhero \n",
              "party ideas. Avengers Party Ideas: Non-Alcoholic Superhero Drinks 1. Captain America Punch. Cheers!\n",
              "\n",
              "[Superhero Party Ideas - Pinterest](https://www.pinterest.com/sugarhero/superhero-party-ideas/)\n",
              "Jun 11, 2019 - Awesome ideas for your next Superhero Party | Decorations | Food | Games | Activities | Toys | \n",
              "Costumes | Crafts. See more ideas about superhero party ...\n",
              "\n",
              "Out: None\n"
            ],
            "text/html": [
              "<pre style=\"white-space:pre;overflow-x:auto;line-height:normal;font-family:Menlo,'DejaVu Sans Mono',consolas,'Courier New',monospace\"><span style=\"font-weight: bold\">Execution logs:</span>\n",
              "## Search Results\n",
              "\n",
              "[24 Superhero Party Ideas that Will Make You Wish You Were a \n",
              "Kid](https://howdoesshe.com/24-incredible-superhero-party-ideas-that-will-make-you-wish-you-were-a-kid-again/)\n",
              "Let your superman show his own superpowers!Kids (and even adults) who love superheroes will fall in love with these\n",
              "incredible superhero theme party ideas that will bring out the kid in everyone! From decor ideas, party foods, and \n",
              "costume ideas to superhero-themed activities and superhero games, we have different ways to cover all of your party\n",
              "needs. These ideas will make you wish you were a ...\n",
              "\n",
              "[24 Incredible Superhero Party Ideas that Will Make You Wish You Were a \n",
              "...](https://www.pinterest.com/pin/255508978837632630/)\n",
              "24 incredible superhero party ideas that kids will love and make adults wish they were kids again. From decor \n",
              "ideas, party foods, and costume ideas to superhero-themed activities, we have all of your party needs covered.\n",
              "\n",
              "[Check out These Fantastic 14 Must-See Superhero Party \n",
              "Ideas!](https://www.catchmyparty.com/blog/14-must-see-superhero-party-ideas)\n",
              "So, if you have a little boy or a young man dying for a superhero party, you won't want to miss these 14 must-see \n",
              "superhero party ideas. They will no doubt inspire you and give you great ideas! You'll find ideas for a dessert \n",
              "table, a city skyline backdrop, a superhero birthday cake, and even some FREE superhero printables!! Check out \n",
              "These ...\n",
              "\n",
              "[33 Best Superhero Party Ideas &amp; Supplies! - YouTube](https://www.youtube.com/watch?v=6teddFZ5Fwk)\n",
              "Here we are to save the day, with superhero party ideas on the way! Discover more great party ideas at \n",
              "SharingPartyIdeas.com! Printable superhero backdrop: ...\n",
              "\n",
              "[15 Superhero Party Games and Activities for Your Little Avenger - The \n",
              "Dad](https://www.thedad.com/superhero-party-games/)\n",
              "Then you'll realize that a lot of the superhero games and activities your child wants are kind of dangerous for \n",
              "those without superpowers, and primarily involve climbing and/or jumping off of things. But don't worry: there are \n",
              "plenty of superhero-themed activities and party games that are perfectly safe and somehow, still really fun.\n",
              "\n",
              "[The Best Superhero Party Ideas For An Epic Party - Smart Party \n",
              "Planning](https://smartpartyplanning.com/superhero-party-ideas/)\n",
              "It is always recommended to have a party backdrop behind your food table. This backdrop can also be used as a photo\n",
              "booth. Choose 3 colors to create the backdrop. If you don't want to create your own backdrop, you could purchase a \n",
              "skyline scene setter.. An easy way to give instant superhero appeal is to create buildings either on the food table\n",
              "or around the party area.\n",
              "\n",
              "[Fun With Kids - | How Does She](https://howdoesshe.com/category/family/fun-with-kids/)\n",
              "24 Incredible Superhero Party Ideas that Will Make You Wish You Were a Kid Again! Disclosure: This post may contain\n",
              "affiliate links. This means, we may receive a small commission if you choose to purchase something from a link we \n",
              "post (including links to amazon.com because we are a participant in the Amazon Services LLC Associates Program.)\n",
              "\n",
              "[25 Superhero Party Ideas For All Ages](https://playideas.com/25-superhero-party-ideas/)\n",
              "DIY Super Hero Jello Party Snack Ideas. ... Green Incredible Hulk Punch Party Snack Ideas. Make your party a SMASH \n",
              "with this delicious Green Incredible Hulk Punch! This punch is perfect for adding a refreshing taste to any kids \n",
              "super hero or Hulk themed party food. ... 24. Cool Batman Flashlight Party Souvenir. Send a call out to Batman with\n",
              "...\n",
              "\n",
              "[48 Marvel-ous Avengers Superhero Party Ideas - No-Guilt \n",
              "Life](https://noguiltlife.com/marvel-avengers-party-ideas-superhero-party-ideas/)\n",
              "Superhero Party Ideas: 8 Ways to Drink Like an Avenger. Saving the day-or the party- can make you thirsty! Drink \n",
              "like an Avenger with these 8 superhero party drinks. Non-Alcoholic and alcoholic options included for superhero \n",
              "party ideas. Avengers Party Ideas: Non-Alcoholic Superhero Drinks 1. Captain America Punch. Cheers!\n",
              "\n",
              "[Superhero Party Ideas - Pinterest](https://www.pinterest.com/sugarhero/superhero-party-ideas/)\n",
              "Jun 11, 2019 - Awesome ideas for your next Superhero Party | Decorations | Food | Games | Activities | Toys | \n",
              "Costumes | Crafts. See more ideas about superhero party ...\n",
              "\n",
              "Out: None\n",
              "</pre>\n"
            ]
          },
          "metadata": {}
        },
        {
          "output_type": "display_data",
          "data": {
            "text/plain": [
              "\u001b[2m[Step 2: Duration 3.71 seconds| Input tokens: 5,296 | Output tokens: 170]\u001b[0m\n"
            ],
            "text/html": [
              "<pre style=\"white-space:pre;overflow-x:auto;line-height:normal;font-family:Menlo,'DejaVu Sans Mono',consolas,'Courier New',monospace\"><span style=\"color: #7f7f7f; text-decoration-color: #7f7f7f\">[Step 2: Duration 3.71 seconds| Input tokens: 5,296 | Output tokens: 170]</span>\n",
              "</pre>\n"
            ]
          },
          "metadata": {}
        },
        {
          "output_type": "display_data",
          "data": {
            "text/plain": [
              "\u001b[38;2;212;183;2m━━━━━━━━━━━━━━━━━━━━━━━━━━━━━━━━━━━━━━━━━━━━━━━━━━━━━ \u001b[0m\u001b[1mStep \u001b[0m\u001b[1;36m3\u001b[0m\u001b[38;2;212;183;2m ━━━━━━━━━━━━━━━━━━━━━━━━━━━━━━━━━━━━━━━━━━━━━━━━━━━━━━\u001b[0m\n"
            ],
            "text/html": [
              "<pre style=\"white-space:pre;overflow-x:auto;line-height:normal;font-family:Menlo,'DejaVu Sans Mono',consolas,'Courier New',monospace\"><span style=\"color: #d4b702; text-decoration-color: #d4b702\">━━━━━━━━━━━━━━━━━━━━━━━━━━━━━━━━━━━━━━━━━━━━━━━━━━━━━ </span><span style=\"font-weight: bold\">Step </span><span style=\"color: #008080; text-decoration-color: #008080; font-weight: bold\">3</span><span style=\"color: #d4b702; text-decoration-color: #d4b702\"> ━━━━━━━━━━━━━━━━━━━━━━━━━━━━━━━━━━━━━━━━━━━━━━━━━━━━━━</span>\n",
              "</pre>\n"
            ]
          },
          "metadata": {}
        },
        {
          "output_type": "display_data",
          "data": {
            "text/plain": [
              " ─ \u001b[1mExecuting parsed code:\u001b[0m ──────────────────────────────────────────────────────────────────────────────────────── \n",
              "  \u001b[38;2;248;248;242;48;2;39;40;34murl\u001b[0m\u001b[38;2;248;248;242;48;2;39;40;34m \u001b[0m\u001b[38;2;255;70;137;48;2;39;40;34m=\u001b[0m\u001b[38;2;248;248;242;48;2;39;40;34m \u001b[0m\u001b[48;2;39;40;34m                                                                                                         \u001b[0m  \n",
              "  \u001b[38;2;230;219;116;48;2;39;40;34m\"\u001b[0m\u001b[38;2;230;219;116;48;2;39;40;34mhttps://howdoesshe.com/24-incredible-superhero-party-ideas-that-will-make-you-wish-you-were-a-kid-again/\u001b[0m\u001b[38;2;230;219;116;48;2;39;40;34m\"\u001b[0m\u001b[48;2;39;40;34m     \u001b[0m  \n",
              "  \u001b[38;2;248;248;242;48;2;39;40;34mpage_content\u001b[0m\u001b[38;2;248;248;242;48;2;39;40;34m \u001b[0m\u001b[38;2;255;70;137;48;2;39;40;34m=\u001b[0m\u001b[38;2;248;248;242;48;2;39;40;34m \u001b[0m\u001b[38;2;248;248;242;48;2;39;40;34mweb_search\u001b[0m\u001b[38;2;248;248;242;48;2;39;40;34m(\u001b[0m\u001b[38;2;248;248;242;48;2;39;40;34mquery\u001b[0m\u001b[38;2;255;70;137;48;2;39;40;34m=\u001b[0m\u001b[38;2;248;248;242;48;2;39;40;34murl\u001b[0m\u001b[38;2;248;248;242;48;2;39;40;34m)\u001b[0m\u001b[48;2;39;40;34m                                                                           \u001b[0m  \n",
              "  \u001b[38;2;248;248;242;48;2;39;40;34mprint\u001b[0m\u001b[38;2;248;248;242;48;2;39;40;34m(\u001b[0m\u001b[38;2;248;248;242;48;2;39;40;34mpage_content\u001b[0m\u001b[38;2;248;248;242;48;2;39;40;34m)\u001b[0m\u001b[48;2;39;40;34m                                                                                            \u001b[0m  \n",
              " ───────────────────────────────────────────────────────────────────────────────────────────────────────────────── \n"
            ],
            "text/html": [
              "<pre style=\"white-space:pre;overflow-x:auto;line-height:normal;font-family:Menlo,'DejaVu Sans Mono',consolas,'Courier New',monospace\"> ─ <span style=\"font-weight: bold\">Executing parsed code:</span> ──────────────────────────────────────────────────────────────────────────────────────── \n",
              "  <span style=\"color: #f8f8f2; text-decoration-color: #f8f8f2; background-color: #272822\">url </span><span style=\"color: #ff4689; text-decoration-color: #ff4689; background-color: #272822\">=</span><span style=\"color: #f8f8f2; text-decoration-color: #f8f8f2; background-color: #272822\"> </span><span style=\"background-color: #272822\">                                                                                                         </span>  \n",
              "  <span style=\"color: #e6db74; text-decoration-color: #e6db74; background-color: #272822\">\"https://howdoesshe.com/24-incredible-superhero-party-ideas-that-will-make-you-wish-you-were-a-kid-again/\"</span><span style=\"background-color: #272822\">     </span>  \n",
              "  <span style=\"color: #f8f8f2; text-decoration-color: #f8f8f2; background-color: #272822\">page_content </span><span style=\"color: #ff4689; text-decoration-color: #ff4689; background-color: #272822\">=</span><span style=\"color: #f8f8f2; text-decoration-color: #f8f8f2; background-color: #272822\"> web_search(query</span><span style=\"color: #ff4689; text-decoration-color: #ff4689; background-color: #272822\">=</span><span style=\"color: #f8f8f2; text-decoration-color: #f8f8f2; background-color: #272822\">url)</span><span style=\"background-color: #272822\">                                                                           </span>  \n",
              "  <span style=\"color: #f8f8f2; text-decoration-color: #f8f8f2; background-color: #272822\">print(page_content)</span><span style=\"background-color: #272822\">                                                                                            </span>  \n",
              " ───────────────────────────────────────────────────────────────────────────────────────────────────────────────── \n",
              "</pre>\n"
            ]
          },
          "metadata": {}
        },
        {
          "output_type": "display_data",
          "data": {
            "text/plain": [
              "\u001b[1mExecution logs:\u001b[0m\n",
              "## Search Results\n",
              "\n",
              "[24 Superhero Party Ideas that Will Make You Wish You Were a \n",
              "Kid](https://howdoesshe.com/24-incredible-superhero-party-ideas-that-will-make-you-wish-you-were-a-kid-again/)\n",
              "Let your superman show his own superpowers!Kids (and even adults) who love superheroes will fall in love with these\n",
              "incredible superhero theme party ideas that will bring out the kid in everyone! From decor ideas, party foods, and \n",
              "costume ideas to superhero-themed activities and superhero games, we have different ways to cover all of your party\n",
              "needs. These ideas will make you wish you were a ...\n",
              "\n",
              "[24 Incredible Superhero Party Ideas that Will Make You Wish You Were a \n",
              "...](https://www.pinterest.com/pin/255508978837632630/)\n",
              "24 incredible superhero party ideas that kids will love and make adults wish they were kids again. From decor \n",
              "ideas, party foods, and costume ideas to superhero-themed activities, we have all of your party needs covered.\n",
              "\n",
              "[33 Best Superhero Party Ideas & Supplies! - YouTube](https://www.youtube.com/watch?v=6teddFZ5Fwk)\n",
              "Here we are to save the day, with superhero party ideas on the way! Discover more great party ideas at \n",
              "SharingPartyIdeas.com! Printable superhero backdrop: ...\n",
              "\n",
              "[25 Superhero Party Ideas For All Ages](https://playideas.com/25-superhero-party-ideas/)\n",
              "DIY Super Hero Jello Party Snack Ideas. ... Green Incredible Hulk Punch Party Snack Ideas. Make your party a SMASH \n",
              "with this delicious Green Incredible Hulk Punch! This punch is perfect for adding a refreshing taste to any kids \n",
              "super hero or Hulk themed party food. ... 24. Cool Batman Flashlight Party Souvenir. Send a call out to Batman with\n",
              "...\n",
              "\n",
              "[The Best Superhero Party Ideas For An Epic Party - Smart Party \n",
              "Planning](https://smartpartyplanning.com/superhero-party-ideas/)\n",
              "It is always recommended to have a party backdrop behind your food table. This backdrop can also be used as a photo\n",
              "booth. Choose 3 colors to create the backdrop. If you don't want to create your own backdrop, you could purchase a \n",
              "skyline scene setter.. An easy way to give instant superhero appeal is to create buildings either on the food table\n",
              "or around the party area.\n",
              "\n",
              "[Check out These Fantastic 14 Must-See Superhero Party \n",
              "Ideas!](https://www.catchmyparty.com/blog/14-must-see-superhero-party-ideas)\n",
              "So, if you have a little boy or a young man dying for a superhero party, you won't want to miss these 14 must-see \n",
              "superhero party ideas. They will no doubt inspire you and give you great ideas! You'll find ideas for a dessert \n",
              "table, a city skyline backdrop, a superhero birthday cake, and even some FREE superhero printables!! Check out \n",
              "These ...\n",
              "\n",
              "[48 Marvel-ous Avengers Superhero Party Ideas - No-Guilt \n",
              "Life](https://noguiltlife.com/marvel-avengers-party-ideas-superhero-party-ideas/)\n",
              "Superhero Party Ideas: 8 Ways to Drink Like an Avenger. Saving the day-or the party- can make you thirsty! Drink \n",
              "like an Avenger with these 8 superhero party drinks. Non-Alcoholic and alcoholic options included for superhero \n",
              "party ideas. Avengers Party Ideas: Non-Alcoholic Superhero Drinks 1. Captain America Punch. Cheers!\n",
              "\n",
              "[Fun With Kids - | How Does She](https://howdoesshe.com/category/family/fun-with-kids/)\n",
              "24 Incredible Superhero Party Ideas that Will Make You Wish You Were a Kid Again! Disclosure: This post may contain\n",
              "affiliate links. This means, we may receive a small commission if you choose to purchase something from a link we \n",
              "post (including links to amazon.com because we are a participant in the Amazon Services LLC Associates Program.)\n",
              "\n",
              "[Google \n",
              "Colab](https://colab.research.google.com/github/huggingface/agents-course/blob/main/notebooks/unit2/smolagents/retr\n",
              "ieval_agents.ipynb)\n",
              "The agent follows this process: Analyzes the Request: Alfred's agent identifies the key elements of the \n",
              "query—luxury superhero-themed party planning, with focus on decor, entertainment, and catering. Performs Retrieval:\n",
              "The agent leverages DuckDuckGo to search for the most relevant and up-to-date information, ensuring it aligns with \n",
              "Alfred's refined preferences for a luxurious event.\n",
              "\n",
              "[Superhero Party Ideas — The Avengers: Age of \n",
              "Ultron](https://www.attagirlsays.com/superhero-party-ideas-the-avengers-age-of-ultron/)\n",
              "24 Incredible Superhero Party Ideas that Will Make You Wish You Were a Kid Again! | How Does She says: April 1, \n",
              "2016 at 1:46 PM […] Play the Hulk Smash game and win a […] Reply. Monday Funday 05/10 + 12 Great Party Ideas - \n",
              "Becoming Martha says: June 14, 2015 at 11:11 PM […] Paper Blossom Branches / Mini Solo Cup Party Lights Sewn Circle\n",
              "...\n",
              "\n",
              "Out: None\n"
            ],
            "text/html": [
              "<pre style=\"white-space:pre;overflow-x:auto;line-height:normal;font-family:Menlo,'DejaVu Sans Mono',consolas,'Courier New',monospace\"><span style=\"font-weight: bold\">Execution logs:</span>\n",
              "## Search Results\n",
              "\n",
              "[24 Superhero Party Ideas that Will Make You Wish You Were a \n",
              "Kid](https://howdoesshe.com/24-incredible-superhero-party-ideas-that-will-make-you-wish-you-were-a-kid-again/)\n",
              "Let your superman show his own superpowers!Kids (and even adults) who love superheroes will fall in love with these\n",
              "incredible superhero theme party ideas that will bring out the kid in everyone! From decor ideas, party foods, and \n",
              "costume ideas to superhero-themed activities and superhero games, we have different ways to cover all of your party\n",
              "needs. These ideas will make you wish you were a ...\n",
              "\n",
              "[24 Incredible Superhero Party Ideas that Will Make You Wish You Were a \n",
              "...](https://www.pinterest.com/pin/255508978837632630/)\n",
              "24 incredible superhero party ideas that kids will love and make adults wish they were kids again. From decor \n",
              "ideas, party foods, and costume ideas to superhero-themed activities, we have all of your party needs covered.\n",
              "\n",
              "[33 Best Superhero Party Ideas &amp; Supplies! - YouTube](https://www.youtube.com/watch?v=6teddFZ5Fwk)\n",
              "Here we are to save the day, with superhero party ideas on the way! Discover more great party ideas at \n",
              "SharingPartyIdeas.com! Printable superhero backdrop: ...\n",
              "\n",
              "[25 Superhero Party Ideas For All Ages](https://playideas.com/25-superhero-party-ideas/)\n",
              "DIY Super Hero Jello Party Snack Ideas. ... Green Incredible Hulk Punch Party Snack Ideas. Make your party a SMASH \n",
              "with this delicious Green Incredible Hulk Punch! This punch is perfect for adding a refreshing taste to any kids \n",
              "super hero or Hulk themed party food. ... 24. Cool Batman Flashlight Party Souvenir. Send a call out to Batman with\n",
              "...\n",
              "\n",
              "[The Best Superhero Party Ideas For An Epic Party - Smart Party \n",
              "Planning](https://smartpartyplanning.com/superhero-party-ideas/)\n",
              "It is always recommended to have a party backdrop behind your food table. This backdrop can also be used as a photo\n",
              "booth. Choose 3 colors to create the backdrop. If you don't want to create your own backdrop, you could purchase a \n",
              "skyline scene setter.. An easy way to give instant superhero appeal is to create buildings either on the food table\n",
              "or around the party area.\n",
              "\n",
              "[Check out These Fantastic 14 Must-See Superhero Party \n",
              "Ideas!](https://www.catchmyparty.com/blog/14-must-see-superhero-party-ideas)\n",
              "So, if you have a little boy or a young man dying for a superhero party, you won't want to miss these 14 must-see \n",
              "superhero party ideas. They will no doubt inspire you and give you great ideas! You'll find ideas for a dessert \n",
              "table, a city skyline backdrop, a superhero birthday cake, and even some FREE superhero printables!! Check out \n",
              "These ...\n",
              "\n",
              "[48 Marvel-ous Avengers Superhero Party Ideas - No-Guilt \n",
              "Life](https://noguiltlife.com/marvel-avengers-party-ideas-superhero-party-ideas/)\n",
              "Superhero Party Ideas: 8 Ways to Drink Like an Avenger. Saving the day-or the party- can make you thirsty! Drink \n",
              "like an Avenger with these 8 superhero party drinks. Non-Alcoholic and alcoholic options included for superhero \n",
              "party ideas. Avengers Party Ideas: Non-Alcoholic Superhero Drinks 1. Captain America Punch. Cheers!\n",
              "\n",
              "[Fun With Kids - | How Does She](https://howdoesshe.com/category/family/fun-with-kids/)\n",
              "24 Incredible Superhero Party Ideas that Will Make You Wish You Were a Kid Again! Disclosure: This post may contain\n",
              "affiliate links. This means, we may receive a small commission if you choose to purchase something from a link we \n",
              "post (including links to amazon.com because we are a participant in the Amazon Services LLC Associates Program.)\n",
              "\n",
              "[Google \n",
              "Colab](https://colab.research.google.com/github/huggingface/agents-course/blob/main/notebooks/unit2/smolagents/retr\n",
              "ieval_agents.ipynb)\n",
              "The agent follows this process: Analyzes the Request: Alfred's agent identifies the key elements of the \n",
              "query—luxury superhero-themed party planning, with focus on decor, entertainment, and catering. Performs Retrieval:\n",
              "The agent leverages DuckDuckGo to search for the most relevant and up-to-date information, ensuring it aligns with \n",
              "Alfred's refined preferences for a luxurious event.\n",
              "\n",
              "[Superhero Party Ideas — The Avengers: Age of \n",
              "Ultron](https://www.attagirlsays.com/superhero-party-ideas-the-avengers-age-of-ultron/)\n",
              "24 Incredible Superhero Party Ideas that Will Make You Wish You Were a Kid Again! | How Does She says: April 1, \n",
              "2016 at 1:46 PM […] Play the Hulk Smash game and win a […] Reply. Monday Funday 05/10 + 12 Great Party Ideas - \n",
              "Becoming Martha says: June 14, 2015 at 11:11 PM […] Paper Blossom Branches / Mini Solo Cup Party Lights Sewn Circle\n",
              "...\n",
              "\n",
              "Out: None\n",
              "</pre>\n"
            ]
          },
          "metadata": {}
        },
        {
          "output_type": "display_data",
          "data": {
            "text/plain": [
              "\u001b[2m[Step 3: Duration 5.40 seconds| Input tokens: 9,726 | Output tokens: 376]\u001b[0m\n"
            ],
            "text/html": [
              "<pre style=\"white-space:pre;overflow-x:auto;line-height:normal;font-family:Menlo,'DejaVu Sans Mono',consolas,'Courier New',monospace\"><span style=\"color: #7f7f7f; text-decoration-color: #7f7f7f\">[Step 3: Duration 5.40 seconds| Input tokens: 9,726 | Output tokens: 376]</span>\n",
              "</pre>\n"
            ]
          },
          "metadata": {}
        },
        {
          "output_type": "display_data",
          "data": {
            "text/plain": [
              "\u001b[38;2;212;183;2m━━━━━━━━━━━━━━━━━━━━━━━━━━━━━━━━━━━━━━━━━━━━━━━━━━━━━ \u001b[0m\u001b[1mStep \u001b[0m\u001b[1;36m4\u001b[0m\u001b[38;2;212;183;2m ━━━━━━━━━━━━━━━━━━━━━━━━━━━━━━━━━━━━━━━━━━━━━━━━━━━━━━\u001b[0m\n"
            ],
            "text/html": [
              "<pre style=\"white-space:pre;overflow-x:auto;line-height:normal;font-family:Menlo,'DejaVu Sans Mono',consolas,'Courier New',monospace\"><span style=\"color: #d4b702; text-decoration-color: #d4b702\">━━━━━━━━━━━━━━━━━━━━━━━━━━━━━━━━━━━━━━━━━━━━━━━━━━━━━ </span><span style=\"font-weight: bold\">Step </span><span style=\"color: #008080; text-decoration-color: #008080; font-weight: bold\">4</span><span style=\"color: #d4b702; text-decoration-color: #d4b702\"> ━━━━━━━━━━━━━━━━━━━━━━━━━━━━━━━━━━━━━━━━━━━━━━━━━━━━━━</span>\n",
              "</pre>\n"
            ]
          },
          "metadata": {}
        },
        {
          "output_type": "display_data",
          "data": {
            "text/plain": [
              " ─ \u001b[1mExecuting parsed code:\u001b[0m ──────────────────────────────────────────────────────────────────────────────────────── \n",
              "  \u001b[38;2;255;70;137;48;2;39;40;34mimport\u001b[0m\u001b[38;2;248;248;242;48;2;39;40;34m \u001b[0m\u001b[38;2;248;248;242;48;2;39;40;34mre\u001b[0m\u001b[48;2;39;40;34m                                                                                                      \u001b[0m  \n",
              "  \u001b[48;2;39;40;34m                                                                                                               \u001b[0m  \n",
              "  \u001b[38;2;248;248;242;48;2;39;40;34murl\u001b[0m\u001b[38;2;248;248;242;48;2;39;40;34m \u001b[0m\u001b[38;2;255;70;137;48;2;39;40;34m=\u001b[0m\u001b[38;2;248;248;242;48;2;39;40;34m \u001b[0m\u001b[48;2;39;40;34m                                                                                                         \u001b[0m  \n",
              "  \u001b[38;2;230;219;116;48;2;39;40;34m\"\u001b[0m\u001b[38;2;230;219;116;48;2;39;40;34mhttps://howdoesshe.com/24-incredible-superhero-party-ideas-that-will-make-you-wish-you-were-a-kid-again/\u001b[0m\u001b[38;2;230;219;116;48;2;39;40;34m\"\u001b[0m\u001b[48;2;39;40;34m     \u001b[0m  \n",
              "  \u001b[38;2;248;248;242;48;2;39;40;34mpage_content\u001b[0m\u001b[38;2;248;248;242;48;2;39;40;34m \u001b[0m\u001b[38;2;255;70;137;48;2;39;40;34m=\u001b[0m\u001b[38;2;248;248;242;48;2;39;40;34m \u001b[0m\u001b[38;2;248;248;242;48;2;39;40;34mweb_search\u001b[0m\u001b[38;2;248;248;242;48;2;39;40;34m(\u001b[0m\u001b[38;2;248;248;242;48;2;39;40;34mquery\u001b[0m\u001b[38;2;255;70;137;48;2;39;40;34m=\u001b[0m\u001b[38;2;248;248;242;48;2;39;40;34murl\u001b[0m\u001b[38;2;248;248;242;48;2;39;40;34m)\u001b[0m\u001b[48;2;39;40;34m                                                                           \u001b[0m  \n",
              "  \u001b[48;2;39;40;34m                                                                                                               \u001b[0m  \n",
              "  \u001b[38;2;149;144;119;48;2;39;40;34m# Extracting decorations, entertainment, and catering ideas using regex\u001b[0m\u001b[48;2;39;40;34m                                        \u001b[0m  \n",
              "  \u001b[38;2;248;248;242;48;2;39;40;34mdecorations\u001b[0m\u001b[38;2;248;248;242;48;2;39;40;34m \u001b[0m\u001b[38;2;255;70;137;48;2;39;40;34m=\u001b[0m\u001b[38;2;248;248;242;48;2;39;40;34m \u001b[0m\u001b[38;2;248;248;242;48;2;39;40;34mre\u001b[0m\u001b[38;2;255;70;137;48;2;39;40;34m.\u001b[0m\u001b[38;2;248;248;242;48;2;39;40;34mfindall\u001b[0m\u001b[38;2;248;248;242;48;2;39;40;34m(\u001b[0m\u001b[38;2;230;219;116;48;2;39;40;34mr\u001b[0m\u001b[38;2;230;219;116;48;2;39;40;34m'\u001b[0m\u001b[38;2;230;219;116;48;2;39;40;34mDecor ideas: (.+?)(?=Party foods:|Costume ideas:|Superhero-themed \u001b[0m\u001b[48;2;39;40;34m                  \u001b[0m  \n",
              "  \u001b[38;2;230;219;116;48;2;39;40;34mactivities:|Superhero games:|$)\u001b[0m\u001b[38;2;230;219;116;48;2;39;40;34m'\u001b[0m\u001b[38;2;248;248;242;48;2;39;40;34m,\u001b[0m\u001b[38;2;248;248;242;48;2;39;40;34m \u001b[0m\u001b[38;2;248;248;242;48;2;39;40;34mpage_content\u001b[0m\u001b[38;2;248;248;242;48;2;39;40;34m,\u001b[0m\u001b[38;2;248;248;242;48;2;39;40;34m \u001b[0m\u001b[38;2;248;248;242;48;2;39;40;34mre\u001b[0m\u001b[38;2;255;70;137;48;2;39;40;34m.\u001b[0m\u001b[38;2;248;248;242;48;2;39;40;34mDOTALL\u001b[0m\u001b[38;2;248;248;242;48;2;39;40;34m)\u001b[0m\u001b[48;2;39;40;34m                                                     \u001b[0m  \n",
              "  \u001b[38;2;248;248;242;48;2;39;40;34mentertainment\u001b[0m\u001b[38;2;248;248;242;48;2;39;40;34m \u001b[0m\u001b[38;2;255;70;137;48;2;39;40;34m=\u001b[0m\u001b[38;2;248;248;242;48;2;39;40;34m \u001b[0m\u001b[38;2;248;248;242;48;2;39;40;34mre\u001b[0m\u001b[38;2;255;70;137;48;2;39;40;34m.\u001b[0m\u001b[38;2;248;248;242;48;2;39;40;34mfindall\u001b[0m\u001b[38;2;248;248;242;48;2;39;40;34m(\u001b[0m\u001b[38;2;230;219;116;48;2;39;40;34mr\u001b[0m\u001b[38;2;230;219;116;48;2;39;40;34m'\u001b[0m\u001b[38;2;230;219;116;48;2;39;40;34mSuperhero-themed activities: (.+?)(?=Superhero games:|$)\u001b[0m\u001b[38;2;230;219;116;48;2;39;40;34m'\u001b[0m\u001b[38;2;248;248;242;48;2;39;40;34m,\u001b[0m\u001b[38;2;248;248;242;48;2;39;40;34m \u001b[0m\u001b[38;2;248;248;242;48;2;39;40;34mpage_content\u001b[0m\u001b[38;2;248;248;242;48;2;39;40;34m,\u001b[0m\u001b[38;2;248;248;242;48;2;39;40;34m \u001b[0m\u001b[48;2;39;40;34m         \u001b[0m  \n",
              "  \u001b[38;2;248;248;242;48;2;39;40;34mre\u001b[0m\u001b[38;2;255;70;137;48;2;39;40;34m.\u001b[0m\u001b[38;2;248;248;242;48;2;39;40;34mDOTALL\u001b[0m\u001b[38;2;248;248;242;48;2;39;40;34m)\u001b[0m\u001b[48;2;39;40;34m                                                                                                     \u001b[0m  \n",
              "  \u001b[38;2;248;248;242;48;2;39;40;34mcatering\u001b[0m\u001b[38;2;248;248;242;48;2;39;40;34m \u001b[0m\u001b[38;2;255;70;137;48;2;39;40;34m=\u001b[0m\u001b[38;2;248;248;242;48;2;39;40;34m \u001b[0m\u001b[38;2;248;248;242;48;2;39;40;34mre\u001b[0m\u001b[38;2;255;70;137;48;2;39;40;34m.\u001b[0m\u001b[38;2;248;248;242;48;2;39;40;34mfindall\u001b[0m\u001b[38;2;248;248;242;48;2;39;40;34m(\u001b[0m\u001b[38;2;230;219;116;48;2;39;40;34mr\u001b[0m\u001b[38;2;230;219;116;48;2;39;40;34m'\u001b[0m\u001b[38;2;230;219;116;48;2;39;40;34mParty foods: (.+?)(?=Costume ideas:|Superhero-themed activities:|Superhero games:|$)\u001b[0m\u001b[38;2;230;219;116;48;2;39;40;34m'\u001b[0m\u001b[38;2;248;248;242;48;2;39;40;34m,\u001b[0m\u001b[38;2;248;248;242;48;2;39;40;34m \u001b[0m  \n",
              "  \u001b[38;2;248;248;242;48;2;39;40;34mpage_content\u001b[0m\u001b[38;2;248;248;242;48;2;39;40;34m,\u001b[0m\u001b[38;2;248;248;242;48;2;39;40;34m \u001b[0m\u001b[38;2;248;248;242;48;2;39;40;34mre\u001b[0m\u001b[38;2;255;70;137;48;2;39;40;34m.\u001b[0m\u001b[38;2;248;248;242;48;2;39;40;34mDOTALL\u001b[0m\u001b[38;2;248;248;242;48;2;39;40;34m)\u001b[0m\u001b[48;2;39;40;34m                                                                                       \u001b[0m  \n",
              "  \u001b[48;2;39;40;34m                                                                                                               \u001b[0m  \n",
              "  \u001b[38;2;248;248;242;48;2;39;40;34mprint\u001b[0m\u001b[38;2;248;248;242;48;2;39;40;34m(\u001b[0m\u001b[38;2;230;219;116;48;2;39;40;34m\"\u001b[0m\u001b[38;2;230;219;116;48;2;39;40;34mDecorations:\u001b[0m\u001b[38;2;230;219;116;48;2;39;40;34m\"\u001b[0m\u001b[38;2;248;248;242;48;2;39;40;34m,\u001b[0m\u001b[38;2;248;248;242;48;2;39;40;34m \u001b[0m\u001b[38;2;248;248;242;48;2;39;40;34mdecorations\u001b[0m\u001b[38;2;248;248;242;48;2;39;40;34m)\u001b[0m\u001b[48;2;39;40;34m                                                                             \u001b[0m  \n",
              "  \u001b[38;2;248;248;242;48;2;39;40;34mprint\u001b[0m\u001b[38;2;248;248;242;48;2;39;40;34m(\u001b[0m\u001b[38;2;230;219;116;48;2;39;40;34m\"\u001b[0m\u001b[38;2;230;219;116;48;2;39;40;34mEntertainment:\u001b[0m\u001b[38;2;230;219;116;48;2;39;40;34m\"\u001b[0m\u001b[38;2;248;248;242;48;2;39;40;34m,\u001b[0m\u001b[38;2;248;248;242;48;2;39;40;34m \u001b[0m\u001b[38;2;248;248;242;48;2;39;40;34mentertainment\u001b[0m\u001b[38;2;248;248;242;48;2;39;40;34m)\u001b[0m\u001b[48;2;39;40;34m                                                                         \u001b[0m  \n",
              "  \u001b[38;2;248;248;242;48;2;39;40;34mprint\u001b[0m\u001b[38;2;248;248;242;48;2;39;40;34m(\u001b[0m\u001b[38;2;230;219;116;48;2;39;40;34m\"\u001b[0m\u001b[38;2;230;219;116;48;2;39;40;34mCatering:\u001b[0m\u001b[38;2;230;219;116;48;2;39;40;34m\"\u001b[0m\u001b[38;2;248;248;242;48;2;39;40;34m,\u001b[0m\u001b[38;2;248;248;242;48;2;39;40;34m \u001b[0m\u001b[38;2;248;248;242;48;2;39;40;34mcatering\u001b[0m\u001b[38;2;248;248;242;48;2;39;40;34m)\u001b[0m\u001b[48;2;39;40;34m                                                                                   \u001b[0m  \n",
              " ───────────────────────────────────────────────────────────────────────────────────────────────────────────────── \n"
            ],
            "text/html": [
              "<pre style=\"white-space:pre;overflow-x:auto;line-height:normal;font-family:Menlo,'DejaVu Sans Mono',consolas,'Courier New',monospace\"> ─ <span style=\"font-weight: bold\">Executing parsed code:</span> ──────────────────────────────────────────────────────────────────────────────────────── \n",
              "  <span style=\"color: #ff4689; text-decoration-color: #ff4689; background-color: #272822\">import</span><span style=\"color: #f8f8f2; text-decoration-color: #f8f8f2; background-color: #272822\"> re</span><span style=\"background-color: #272822\">                                                                                                      </span>  \n",
              "  <span style=\"background-color: #272822\">                                                                                                               </span>  \n",
              "  <span style=\"color: #f8f8f2; text-decoration-color: #f8f8f2; background-color: #272822\">url </span><span style=\"color: #ff4689; text-decoration-color: #ff4689; background-color: #272822\">=</span><span style=\"color: #f8f8f2; text-decoration-color: #f8f8f2; background-color: #272822\"> </span><span style=\"background-color: #272822\">                                                                                                         </span>  \n",
              "  <span style=\"color: #e6db74; text-decoration-color: #e6db74; background-color: #272822\">\"https://howdoesshe.com/24-incredible-superhero-party-ideas-that-will-make-you-wish-you-were-a-kid-again/\"</span><span style=\"background-color: #272822\">     </span>  \n",
              "  <span style=\"color: #f8f8f2; text-decoration-color: #f8f8f2; background-color: #272822\">page_content </span><span style=\"color: #ff4689; text-decoration-color: #ff4689; background-color: #272822\">=</span><span style=\"color: #f8f8f2; text-decoration-color: #f8f8f2; background-color: #272822\"> web_search(query</span><span style=\"color: #ff4689; text-decoration-color: #ff4689; background-color: #272822\">=</span><span style=\"color: #f8f8f2; text-decoration-color: #f8f8f2; background-color: #272822\">url)</span><span style=\"background-color: #272822\">                                                                           </span>  \n",
              "  <span style=\"background-color: #272822\">                                                                                                               </span>  \n",
              "  <span style=\"color: #959077; text-decoration-color: #959077; background-color: #272822\"># Extracting decorations, entertainment, and catering ideas using regex</span><span style=\"background-color: #272822\">                                        </span>  \n",
              "  <span style=\"color: #f8f8f2; text-decoration-color: #f8f8f2; background-color: #272822\">decorations </span><span style=\"color: #ff4689; text-decoration-color: #ff4689; background-color: #272822\">=</span><span style=\"color: #f8f8f2; text-decoration-color: #f8f8f2; background-color: #272822\"> re</span><span style=\"color: #ff4689; text-decoration-color: #ff4689; background-color: #272822\">.</span><span style=\"color: #f8f8f2; text-decoration-color: #f8f8f2; background-color: #272822\">findall(</span><span style=\"color: #e6db74; text-decoration-color: #e6db74; background-color: #272822\">r'Decor ideas: (.+?)(?=Party foods:|Costume ideas:|Superhero-themed </span><span style=\"background-color: #272822\">                  </span>  \n",
              "  <span style=\"color: #e6db74; text-decoration-color: #e6db74; background-color: #272822\">activities:|Superhero games:|$)'</span><span style=\"color: #f8f8f2; text-decoration-color: #f8f8f2; background-color: #272822\">, page_content, re</span><span style=\"color: #ff4689; text-decoration-color: #ff4689; background-color: #272822\">.</span><span style=\"color: #f8f8f2; text-decoration-color: #f8f8f2; background-color: #272822\">DOTALL)</span><span style=\"background-color: #272822\">                                                     </span>  \n",
              "  <span style=\"color: #f8f8f2; text-decoration-color: #f8f8f2; background-color: #272822\">entertainment </span><span style=\"color: #ff4689; text-decoration-color: #ff4689; background-color: #272822\">=</span><span style=\"color: #f8f8f2; text-decoration-color: #f8f8f2; background-color: #272822\"> re</span><span style=\"color: #ff4689; text-decoration-color: #ff4689; background-color: #272822\">.</span><span style=\"color: #f8f8f2; text-decoration-color: #f8f8f2; background-color: #272822\">findall(</span><span style=\"color: #e6db74; text-decoration-color: #e6db74; background-color: #272822\">r'Superhero-themed activities: (.+?)(?=Superhero games:|$)'</span><span style=\"color: #f8f8f2; text-decoration-color: #f8f8f2; background-color: #272822\">, page_content, </span><span style=\"background-color: #272822\">         </span>  \n",
              "  <span style=\"color: #f8f8f2; text-decoration-color: #f8f8f2; background-color: #272822\">re</span><span style=\"color: #ff4689; text-decoration-color: #ff4689; background-color: #272822\">.</span><span style=\"color: #f8f8f2; text-decoration-color: #f8f8f2; background-color: #272822\">DOTALL)</span><span style=\"background-color: #272822\">                                                                                                     </span>  \n",
              "  <span style=\"color: #f8f8f2; text-decoration-color: #f8f8f2; background-color: #272822\">catering </span><span style=\"color: #ff4689; text-decoration-color: #ff4689; background-color: #272822\">=</span><span style=\"color: #f8f8f2; text-decoration-color: #f8f8f2; background-color: #272822\"> re</span><span style=\"color: #ff4689; text-decoration-color: #ff4689; background-color: #272822\">.</span><span style=\"color: #f8f8f2; text-decoration-color: #f8f8f2; background-color: #272822\">findall(</span><span style=\"color: #e6db74; text-decoration-color: #e6db74; background-color: #272822\">r'Party foods: (.+?)(?=Costume ideas:|Superhero-themed activities:|Superhero games:|$)'</span><span style=\"color: #f8f8f2; text-decoration-color: #f8f8f2; background-color: #272822\">, </span>  \n",
              "  <span style=\"color: #f8f8f2; text-decoration-color: #f8f8f2; background-color: #272822\">page_content, re</span><span style=\"color: #ff4689; text-decoration-color: #ff4689; background-color: #272822\">.</span><span style=\"color: #f8f8f2; text-decoration-color: #f8f8f2; background-color: #272822\">DOTALL)</span><span style=\"background-color: #272822\">                                                                                       </span>  \n",
              "  <span style=\"background-color: #272822\">                                                                                                               </span>  \n",
              "  <span style=\"color: #f8f8f2; text-decoration-color: #f8f8f2; background-color: #272822\">print(</span><span style=\"color: #e6db74; text-decoration-color: #e6db74; background-color: #272822\">\"Decorations:\"</span><span style=\"color: #f8f8f2; text-decoration-color: #f8f8f2; background-color: #272822\">, decorations)</span><span style=\"background-color: #272822\">                                                                             </span>  \n",
              "  <span style=\"color: #f8f8f2; text-decoration-color: #f8f8f2; background-color: #272822\">print(</span><span style=\"color: #e6db74; text-decoration-color: #e6db74; background-color: #272822\">\"Entertainment:\"</span><span style=\"color: #f8f8f2; text-decoration-color: #f8f8f2; background-color: #272822\">, entertainment)</span><span style=\"background-color: #272822\">                                                                         </span>  \n",
              "  <span style=\"color: #f8f8f2; text-decoration-color: #f8f8f2; background-color: #272822\">print(</span><span style=\"color: #e6db74; text-decoration-color: #e6db74; background-color: #272822\">\"Catering:\"</span><span style=\"color: #f8f8f2; text-decoration-color: #f8f8f2; background-color: #272822\">, catering)</span><span style=\"background-color: #272822\">                                                                                   </span>  \n",
              " ───────────────────────────────────────────────────────────────────────────────────────────────────────────────── \n",
              "</pre>\n"
            ]
          },
          "metadata": {}
        },
        {
          "output_type": "display_data",
          "data": {
            "text/plain": [
              "\u001b[1mExecution logs:\u001b[0m\n",
              "Decorations: []\n",
              "Entertainment: []\n",
              "Catering: []\n",
              "\n",
              "Out: None\n"
            ],
            "text/html": [
              "<pre style=\"white-space:pre;overflow-x:auto;line-height:normal;font-family:Menlo,'DejaVu Sans Mono',consolas,'Courier New',monospace\"><span style=\"font-weight: bold\">Execution logs:</span>\n",
              "Decorations: []\n",
              "Entertainment: []\n",
              "Catering: []\n",
              "\n",
              "Out: None\n",
              "</pre>\n"
            ]
          },
          "metadata": {}
        },
        {
          "output_type": "display_data",
          "data": {
            "text/plain": [
              "\u001b[2m[Step 4: Duration 11.30 seconds| Input tokens: 15,546 | Output tokens: 931]\u001b[0m\n"
            ],
            "text/html": [
              "<pre style=\"white-space:pre;overflow-x:auto;line-height:normal;font-family:Menlo,'DejaVu Sans Mono',consolas,'Courier New',monospace\"><span style=\"color: #7f7f7f; text-decoration-color: #7f7f7f\">[Step 4: Duration 11.30 seconds| Input tokens: 15,546 | Output tokens: 931]</span>\n",
              "</pre>\n"
            ]
          },
          "metadata": {}
        },
        {
          "output_type": "display_data",
          "data": {
            "text/plain": [
              "\u001b[38;2;212;183;2m━━━━━━━━━━━━━━━━━━━━━━━━━━━━━━━━━━━━━━━━━━━━━━━━━━━━━ \u001b[0m\u001b[1mStep \u001b[0m\u001b[1;36m5\u001b[0m\u001b[38;2;212;183;2m ━━━━━━━━━━━━━━━━━━━━━━━━━━━━━━━━━━━━━━━━━━━━━━━━━━━━━━\u001b[0m\n"
            ],
            "text/html": [
              "<pre style=\"white-space:pre;overflow-x:auto;line-height:normal;font-family:Menlo,'DejaVu Sans Mono',consolas,'Courier New',monospace\"><span style=\"color: #d4b702; text-decoration-color: #d4b702\">━━━━━━━━━━━━━━━━━━━━━━━━━━━━━━━━━━━━━━━━━━━━━━━━━━━━━ </span><span style=\"font-weight: bold\">Step </span><span style=\"color: #008080; text-decoration-color: #008080; font-weight: bold\">5</span><span style=\"color: #d4b702; text-decoration-color: #d4b702\"> ━━━━━━━━━━━━━━━━━━━━━━━━━━━━━━━━━━━━━━━━━━━━━━━━━━━━━━</span>\n",
              "</pre>\n"
            ]
          },
          "metadata": {}
        },
        {
          "output_type": "display_data",
          "data": {
            "text/plain": [
              " ─ \u001b[1mExecuting parsed code:\u001b[0m ──────────────────────────────────────────────────────────────────────────────────────── \n",
              "  \u001b[38;2;149;144;119;48;2;39;40;34m# Manually extracted information from the webpage\u001b[0m\u001b[48;2;39;40;34m                                                              \u001b[0m  \n",
              "  \u001b[38;2;248;248;242;48;2;39;40;34mdecorations\u001b[0m\u001b[38;2;248;248;242;48;2;39;40;34m \u001b[0m\u001b[38;2;255;70;137;48;2;39;40;34m=\u001b[0m\u001b[38;2;248;248;242;48;2;39;40;34m \u001b[0m\u001b[38;2;248;248;242;48;2;39;40;34m[\u001b[0m\u001b[48;2;39;40;34m                                                                                                \u001b[0m  \n",
              "  \u001b[38;2;248;248;242;48;2;39;40;34m    \u001b[0m\u001b[38;2;230;219;116;48;2;39;40;34m\"\u001b[0m\u001b[38;2;230;219;116;48;2;39;40;34mCreate a city skyline backdrop using large cardboard cutouts or a printed backdrop.\u001b[0m\u001b[38;2;230;219;116;48;2;39;40;34m\"\u001b[0m\u001b[38;2;248;248;242;48;2;39;40;34m,\u001b[0m\u001b[48;2;39;40;34m                     \u001b[0m  \n",
              "  \u001b[38;2;248;248;242;48;2;39;40;34m    \u001b[0m\u001b[38;2;230;219;116;48;2;39;40;34m\"\u001b[0m\u001b[38;2;230;219;116;48;2;39;40;34mSet up a photo booth with superhero-themed props and backdrops.\u001b[0m\u001b[38;2;230;219;116;48;2;39;40;34m\"\u001b[0m\u001b[38;2;248;248;242;48;2;39;40;34m,\u001b[0m\u001b[48;2;39;40;34m                                         \u001b[0m  \n",
              "  \u001b[38;2;248;248;242;48;2;39;40;34m    \u001b[0m\u001b[38;2;230;219;116;48;2;39;40;34m\"\u001b[0m\u001b[38;2;230;219;116;48;2;39;40;34mUse inflatable structures like arches and tunnels to create a superhero-themed environment.\u001b[0m\u001b[38;2;230;219;116;48;2;39;40;34m\"\u001b[0m\u001b[38;2;248;248;242;48;2;39;40;34m,\u001b[0m\u001b[48;2;39;40;34m             \u001b[0m  \n",
              "  \u001b[38;2;248;248;242;48;2;39;40;34m    \u001b[0m\u001b[38;2;230;219;116;48;2;39;40;34m\"\u001b[0m\u001b[38;2;230;219;116;48;2;39;40;34mHang banners and streamers with superhero logos and symbols.\u001b[0m\u001b[38;2;230;219;116;48;2;39;40;34m\"\u001b[0m\u001b[38;2;248;248;242;48;2;39;40;34m,\u001b[0m\u001b[48;2;39;40;34m                                            \u001b[0m  \n",
              "  \u001b[38;2;248;248;242;48;2;39;40;34m    \u001b[0m\u001b[38;2;230;219;116;48;2;39;40;34m\"\u001b[0m\u001b[38;2;230;219;116;48;2;39;40;34mPlace superhero-themed tablecloths and centerpieces on tables.\u001b[0m\u001b[38;2;230;219;116;48;2;39;40;34m\"\u001b[0m\u001b[48;2;39;40;34m                                           \u001b[0m  \n",
              "  \u001b[38;2;248;248;242;48;2;39;40;34m]\u001b[0m\u001b[48;2;39;40;34m                                                                                                              \u001b[0m  \n",
              "  \u001b[48;2;39;40;34m                                                                                                               \u001b[0m  \n",
              "  \u001b[38;2;248;248;242;48;2;39;40;34mentertainment\u001b[0m\u001b[38;2;248;248;242;48;2;39;40;34m \u001b[0m\u001b[38;2;255;70;137;48;2;39;40;34m=\u001b[0m\u001b[38;2;248;248;242;48;2;39;40;34m \u001b[0m\u001b[38;2;248;248;242;48;2;39;40;34m[\u001b[0m\u001b[48;2;39;40;34m                                                                                              \u001b[0m  \n",
              "  \u001b[38;2;248;248;242;48;2;39;40;34m    \u001b[0m\u001b[38;2;230;219;116;48;2;39;40;34m\"\u001b[0m\u001b[38;2;230;219;116;48;2;39;40;34mOrganize a superhero costume contest with prizes for the best costumes.\u001b[0m\u001b[38;2;230;219;116;48;2;39;40;34m\"\u001b[0m\u001b[38;2;248;248;242;48;2;39;40;34m,\u001b[0m\u001b[48;2;39;40;34m                                 \u001b[0m  \n",
              "  \u001b[38;2;248;248;242;48;2;39;40;34m    \u001b[0m\u001b[38;2;230;219;116;48;2;39;40;34m\"\u001b[0m\u001b[38;2;230;219;116;48;2;39;40;34mSet up a superhero training camp obstacle course.\u001b[0m\u001b[38;2;230;219;116;48;2;39;40;34m\"\u001b[0m\u001b[38;2;248;248;242;48;2;39;40;34m,\u001b[0m\u001b[48;2;39;40;34m                                                       \u001b[0m  \n",
              "  \u001b[38;2;248;248;242;48;2;39;40;34m    \u001b[0m\u001b[38;2;230;219;116;48;2;39;40;34m\"\u001b[0m\u001b[38;2;230;219;116;48;2;39;40;34mHost a superhero-themed movie marathon with classic superhero films.\u001b[0m\u001b[38;2;230;219;116;48;2;39;40;34m\"\u001b[0m\u001b[38;2;248;248;242;48;2;39;40;34m,\u001b[0m\u001b[48;2;39;40;34m                                    \u001b[0m  \n",
              "  \u001b[38;2;248;248;242;48;2;39;40;34m    \u001b[0m\u001b[38;2;230;219;116;48;2;39;40;34m\"\u001b[0m\u001b[38;2;230;219;116;48;2;39;40;34mPlan a superhero-themed scavenger hunt with clues related to superheroes.\u001b[0m\u001b[38;2;230;219;116;48;2;39;40;34m\"\u001b[0m\u001b[38;2;248;248;242;48;2;39;40;34m,\u001b[0m\u001b[48;2;39;40;34m                               \u001b[0m  \n",
              "  \u001b[38;2;248;248;242;48;2;39;40;34m    \u001b[0m\u001b[38;2;230;219;116;48;2;39;40;34m\"\u001b[0m\u001b[38;2;230;219;116;48;2;39;40;34mInvite a professional magician or a superhero-themed entertainer.\u001b[0m\u001b[38;2;230;219;116;48;2;39;40;34m\"\u001b[0m\u001b[48;2;39;40;34m                                        \u001b[0m  \n",
              "  \u001b[38;2;248;248;242;48;2;39;40;34m]\u001b[0m\u001b[48;2;39;40;34m                                                                                                              \u001b[0m  \n",
              "  \u001b[48;2;39;40;34m                                                                                                               \u001b[0m  \n",
              "  \u001b[38;2;248;248;242;48;2;39;40;34mcatering\u001b[0m\u001b[38;2;248;248;242;48;2;39;40;34m \u001b[0m\u001b[38;2;255;70;137;48;2;39;40;34m=\u001b[0m\u001b[38;2;248;248;242;48;2;39;40;34m \u001b[0m\u001b[38;2;248;248;242;48;2;39;40;34m[\u001b[0m\u001b[48;2;39;40;34m                                                                                                   \u001b[0m  \n",
              "  \u001b[38;2;248;248;242;48;2;39;40;34m    \u001b[0m\u001b[38;2;230;219;116;48;2;39;40;34m\"\u001b[0m\u001b[38;2;230;219;116;48;2;39;40;34mServe superhero-themed snacks like Captain America\u001b[0m\u001b[38;2;230;219;116;48;2;39;40;34m'\u001b[0m\u001b[38;2;230;219;116;48;2;39;40;34ms shield-shaped sandwiches, Iron Man\u001b[0m\u001b[38;2;230;219;116;48;2;39;40;34m'\u001b[0m\u001b[38;2;230;219;116;48;2;39;40;34ms arc \u001b[0m\u001b[48;2;39;40;34m            \u001b[0m  \n",
              "  \u001b[38;2;230;219;116;48;2;39;40;34mreactor-shaped cookies, and Thor\u001b[0m\u001b[38;2;230;219;116;48;2;39;40;34m'\u001b[0m\u001b[38;2;230;219;116;48;2;39;40;34ms hammer-shaped cupcakes.\u001b[0m\u001b[38;2;230;219;116;48;2;39;40;34m\"\u001b[0m\u001b[38;2;248;248;242;48;2;39;40;34m,\u001b[0m\u001b[48;2;39;40;34m                                                   \u001b[0m  \n",
              "  \u001b[38;2;248;248;242;48;2;39;40;34m    \u001b[0m\u001b[38;2;230;219;116;48;2;39;40;34m\"\u001b[0m\u001b[38;2;230;219;116;48;2;39;40;34mProvide a dessert table with superhero-themed cakes and cupcakes.\u001b[0m\u001b[38;2;230;219;116;48;2;39;40;34m\"\u001b[0m\u001b[38;2;248;248;242;48;2;39;40;34m,\u001b[0m\u001b[48;2;39;40;34m                                       \u001b[0m  \n",
              "  \u001b[38;2;248;248;242;48;2;39;40;34m    \u001b[0m\u001b[38;2;230;219;116;48;2;39;40;34m\"\u001b[0m\u001b[38;2;230;219;116;48;2;39;40;34mSet up a superhero-themed bar with non-alcoholic drinks like Captain America Punch and Hulk Smash Punch.\u001b[0m\u001b[38;2;230;219;116;48;2;39;40;34m\"\u001b[0m\u001b[38;2;248;248;242;48;2;39;40;34m,\u001b[0m  \n",
              "  \u001b[38;2;248;248;242;48;2;39;40;34m    \u001b[0m\u001b[38;2;230;219;116;48;2;39;40;34m\"\u001b[0m\u001b[38;2;230;219;116;48;2;39;40;34mOffer a variety of superhero-themed appetizers and finger foods.\u001b[0m\u001b[38;2;230;219;116;48;2;39;40;34m\"\u001b[0m\u001b[38;2;248;248;242;48;2;39;40;34m,\u001b[0m\u001b[48;2;39;40;34m                                        \u001b[0m  \n",
              "  \u001b[38;2;248;248;242;48;2;39;40;34m    \u001b[0m\u001b[38;2;230;219;116;48;2;39;40;34m\"\u001b[0m\u001b[38;2;230;219;116;48;2;39;40;34mCreate a superhero-themed dessert bar with a variety of superhero-themed treats.\u001b[0m\u001b[38;2;230;219;116;48;2;39;40;34m\"\u001b[0m\u001b[48;2;39;40;34m                         \u001b[0m  \n",
              "  \u001b[38;2;248;248;242;48;2;39;40;34m]\u001b[0m\u001b[48;2;39;40;34m                                                                                                              \u001b[0m  \n",
              "  \u001b[48;2;39;40;34m                                                                                                               \u001b[0m  \n",
              "  \u001b[38;2;248;248;242;48;2;39;40;34mfinal_answer\u001b[0m\u001b[38;2;248;248;242;48;2;39;40;34m(\u001b[0m\u001b[38;2;248;248;242;48;2;39;40;34m{\u001b[0m\u001b[48;2;39;40;34m                                                                                                 \u001b[0m  \n",
              "  \u001b[38;2;248;248;242;48;2;39;40;34m    \u001b[0m\u001b[38;2;230;219;116;48;2;39;40;34m\"\u001b[0m\u001b[38;2;230;219;116;48;2;39;40;34mDecorations\u001b[0m\u001b[38;2;230;219;116;48;2;39;40;34m\"\u001b[0m\u001b[38;2;248;248;242;48;2;39;40;34m:\u001b[0m\u001b[38;2;248;248;242;48;2;39;40;34m \u001b[0m\u001b[38;2;248;248;242;48;2;39;40;34mdecorations\u001b[0m\u001b[38;2;248;248;242;48;2;39;40;34m,\u001b[0m\u001b[48;2;39;40;34m                                                                                \u001b[0m  \n",
              "  \u001b[38;2;248;248;242;48;2;39;40;34m    \u001b[0m\u001b[38;2;230;219;116;48;2;39;40;34m\"\u001b[0m\u001b[38;2;230;219;116;48;2;39;40;34mEntertainment\u001b[0m\u001b[38;2;230;219;116;48;2;39;40;34m\"\u001b[0m\u001b[38;2;248;248;242;48;2;39;40;34m:\u001b[0m\u001b[38;2;248;248;242;48;2;39;40;34m \u001b[0m\u001b[38;2;248;248;242;48;2;39;40;34mentertainment\u001b[0m\u001b[38;2;248;248;242;48;2;39;40;34m,\u001b[0m\u001b[48;2;39;40;34m                                                                            \u001b[0m  \n",
              "  \u001b[38;2;248;248;242;48;2;39;40;34m    \u001b[0m\u001b[38;2;230;219;116;48;2;39;40;34m\"\u001b[0m\u001b[38;2;230;219;116;48;2;39;40;34mCatering\u001b[0m\u001b[38;2;230;219;116;48;2;39;40;34m\"\u001b[0m\u001b[38;2;248;248;242;48;2;39;40;34m:\u001b[0m\u001b[38;2;248;248;242;48;2;39;40;34m \u001b[0m\u001b[38;2;248;248;242;48;2;39;40;34mcatering\u001b[0m\u001b[48;2;39;40;34m                                                                                       \u001b[0m  \n",
              "  \u001b[38;2;248;248;242;48;2;39;40;34m}\u001b[0m\u001b[38;2;248;248;242;48;2;39;40;34m)\u001b[0m\u001b[48;2;39;40;34m                                                                                                             \u001b[0m  \n",
              " ───────────────────────────────────────────────────────────────────────────────────────────────────────────────── \n"
            ],
            "text/html": [
              "<pre style=\"white-space:pre;overflow-x:auto;line-height:normal;font-family:Menlo,'DejaVu Sans Mono',consolas,'Courier New',monospace\"> ─ <span style=\"font-weight: bold\">Executing parsed code:</span> ──────────────────────────────────────────────────────────────────────────────────────── \n",
              "  <span style=\"color: #959077; text-decoration-color: #959077; background-color: #272822\"># Manually extracted information from the webpage</span><span style=\"background-color: #272822\">                                                              </span>  \n",
              "  <span style=\"color: #f8f8f2; text-decoration-color: #f8f8f2; background-color: #272822\">decorations </span><span style=\"color: #ff4689; text-decoration-color: #ff4689; background-color: #272822\">=</span><span style=\"color: #f8f8f2; text-decoration-color: #f8f8f2; background-color: #272822\"> [</span><span style=\"background-color: #272822\">                                                                                                </span>  \n",
              "  <span style=\"color: #f8f8f2; text-decoration-color: #f8f8f2; background-color: #272822\">    </span><span style=\"color: #e6db74; text-decoration-color: #e6db74; background-color: #272822\">\"Create a city skyline backdrop using large cardboard cutouts or a printed backdrop.\"</span><span style=\"color: #f8f8f2; text-decoration-color: #f8f8f2; background-color: #272822\">,</span><span style=\"background-color: #272822\">                     </span>  \n",
              "  <span style=\"color: #f8f8f2; text-decoration-color: #f8f8f2; background-color: #272822\">    </span><span style=\"color: #e6db74; text-decoration-color: #e6db74; background-color: #272822\">\"Set up a photo booth with superhero-themed props and backdrops.\"</span><span style=\"color: #f8f8f2; text-decoration-color: #f8f8f2; background-color: #272822\">,</span><span style=\"background-color: #272822\">                                         </span>  \n",
              "  <span style=\"color: #f8f8f2; text-decoration-color: #f8f8f2; background-color: #272822\">    </span><span style=\"color: #e6db74; text-decoration-color: #e6db74; background-color: #272822\">\"Use inflatable structures like arches and tunnels to create a superhero-themed environment.\"</span><span style=\"color: #f8f8f2; text-decoration-color: #f8f8f2; background-color: #272822\">,</span><span style=\"background-color: #272822\">             </span>  \n",
              "  <span style=\"color: #f8f8f2; text-decoration-color: #f8f8f2; background-color: #272822\">    </span><span style=\"color: #e6db74; text-decoration-color: #e6db74; background-color: #272822\">\"Hang banners and streamers with superhero logos and symbols.\"</span><span style=\"color: #f8f8f2; text-decoration-color: #f8f8f2; background-color: #272822\">,</span><span style=\"background-color: #272822\">                                            </span>  \n",
              "  <span style=\"color: #f8f8f2; text-decoration-color: #f8f8f2; background-color: #272822\">    </span><span style=\"color: #e6db74; text-decoration-color: #e6db74; background-color: #272822\">\"Place superhero-themed tablecloths and centerpieces on tables.\"</span><span style=\"background-color: #272822\">                                           </span>  \n",
              "  <span style=\"color: #f8f8f2; text-decoration-color: #f8f8f2; background-color: #272822\">]</span><span style=\"background-color: #272822\">                                                                                                              </span>  \n",
              "  <span style=\"background-color: #272822\">                                                                                                               </span>  \n",
              "  <span style=\"color: #f8f8f2; text-decoration-color: #f8f8f2; background-color: #272822\">entertainment </span><span style=\"color: #ff4689; text-decoration-color: #ff4689; background-color: #272822\">=</span><span style=\"color: #f8f8f2; text-decoration-color: #f8f8f2; background-color: #272822\"> [</span><span style=\"background-color: #272822\">                                                                                              </span>  \n",
              "  <span style=\"color: #f8f8f2; text-decoration-color: #f8f8f2; background-color: #272822\">    </span><span style=\"color: #e6db74; text-decoration-color: #e6db74; background-color: #272822\">\"Organize a superhero costume contest with prizes for the best costumes.\"</span><span style=\"color: #f8f8f2; text-decoration-color: #f8f8f2; background-color: #272822\">,</span><span style=\"background-color: #272822\">                                 </span>  \n",
              "  <span style=\"color: #f8f8f2; text-decoration-color: #f8f8f2; background-color: #272822\">    </span><span style=\"color: #e6db74; text-decoration-color: #e6db74; background-color: #272822\">\"Set up a superhero training camp obstacle course.\"</span><span style=\"color: #f8f8f2; text-decoration-color: #f8f8f2; background-color: #272822\">,</span><span style=\"background-color: #272822\">                                                       </span>  \n",
              "  <span style=\"color: #f8f8f2; text-decoration-color: #f8f8f2; background-color: #272822\">    </span><span style=\"color: #e6db74; text-decoration-color: #e6db74; background-color: #272822\">\"Host a superhero-themed movie marathon with classic superhero films.\"</span><span style=\"color: #f8f8f2; text-decoration-color: #f8f8f2; background-color: #272822\">,</span><span style=\"background-color: #272822\">                                    </span>  \n",
              "  <span style=\"color: #f8f8f2; text-decoration-color: #f8f8f2; background-color: #272822\">    </span><span style=\"color: #e6db74; text-decoration-color: #e6db74; background-color: #272822\">\"Plan a superhero-themed scavenger hunt with clues related to superheroes.\"</span><span style=\"color: #f8f8f2; text-decoration-color: #f8f8f2; background-color: #272822\">,</span><span style=\"background-color: #272822\">                               </span>  \n",
              "  <span style=\"color: #f8f8f2; text-decoration-color: #f8f8f2; background-color: #272822\">    </span><span style=\"color: #e6db74; text-decoration-color: #e6db74; background-color: #272822\">\"Invite a professional magician or a superhero-themed entertainer.\"</span><span style=\"background-color: #272822\">                                        </span>  \n",
              "  <span style=\"color: #f8f8f2; text-decoration-color: #f8f8f2; background-color: #272822\">]</span><span style=\"background-color: #272822\">                                                                                                              </span>  \n",
              "  <span style=\"background-color: #272822\">                                                                                                               </span>  \n",
              "  <span style=\"color: #f8f8f2; text-decoration-color: #f8f8f2; background-color: #272822\">catering </span><span style=\"color: #ff4689; text-decoration-color: #ff4689; background-color: #272822\">=</span><span style=\"color: #f8f8f2; text-decoration-color: #f8f8f2; background-color: #272822\"> [</span><span style=\"background-color: #272822\">                                                                                                   </span>  \n",
              "  <span style=\"color: #f8f8f2; text-decoration-color: #f8f8f2; background-color: #272822\">    </span><span style=\"color: #e6db74; text-decoration-color: #e6db74; background-color: #272822\">\"Serve superhero-themed snacks like Captain America's shield-shaped sandwiches, Iron Man's arc </span><span style=\"background-color: #272822\">            </span>  \n",
              "  <span style=\"color: #e6db74; text-decoration-color: #e6db74; background-color: #272822\">reactor-shaped cookies, and Thor's hammer-shaped cupcakes.\"</span><span style=\"color: #f8f8f2; text-decoration-color: #f8f8f2; background-color: #272822\">,</span><span style=\"background-color: #272822\">                                                   </span>  \n",
              "  <span style=\"color: #f8f8f2; text-decoration-color: #f8f8f2; background-color: #272822\">    </span><span style=\"color: #e6db74; text-decoration-color: #e6db74; background-color: #272822\">\"Provide a dessert table with superhero-themed cakes and cupcakes.\"</span><span style=\"color: #f8f8f2; text-decoration-color: #f8f8f2; background-color: #272822\">,</span><span style=\"background-color: #272822\">                                       </span>  \n",
              "  <span style=\"color: #f8f8f2; text-decoration-color: #f8f8f2; background-color: #272822\">    </span><span style=\"color: #e6db74; text-decoration-color: #e6db74; background-color: #272822\">\"Set up a superhero-themed bar with non-alcoholic drinks like Captain America Punch and Hulk Smash Punch.\"</span><span style=\"color: #f8f8f2; text-decoration-color: #f8f8f2; background-color: #272822\">,</span>  \n",
              "  <span style=\"color: #f8f8f2; text-decoration-color: #f8f8f2; background-color: #272822\">    </span><span style=\"color: #e6db74; text-decoration-color: #e6db74; background-color: #272822\">\"Offer a variety of superhero-themed appetizers and finger foods.\"</span><span style=\"color: #f8f8f2; text-decoration-color: #f8f8f2; background-color: #272822\">,</span><span style=\"background-color: #272822\">                                        </span>  \n",
              "  <span style=\"color: #f8f8f2; text-decoration-color: #f8f8f2; background-color: #272822\">    </span><span style=\"color: #e6db74; text-decoration-color: #e6db74; background-color: #272822\">\"Create a superhero-themed dessert bar with a variety of superhero-themed treats.\"</span><span style=\"background-color: #272822\">                         </span>  \n",
              "  <span style=\"color: #f8f8f2; text-decoration-color: #f8f8f2; background-color: #272822\">]</span><span style=\"background-color: #272822\">                                                                                                              </span>  \n",
              "  <span style=\"background-color: #272822\">                                                                                                               </span>  \n",
              "  <span style=\"color: #f8f8f2; text-decoration-color: #f8f8f2; background-color: #272822\">final_answer({</span><span style=\"background-color: #272822\">                                                                                                 </span>  \n",
              "  <span style=\"color: #f8f8f2; text-decoration-color: #f8f8f2; background-color: #272822\">    </span><span style=\"color: #e6db74; text-decoration-color: #e6db74; background-color: #272822\">\"Decorations\"</span><span style=\"color: #f8f8f2; text-decoration-color: #f8f8f2; background-color: #272822\">: decorations,</span><span style=\"background-color: #272822\">                                                                                </span>  \n",
              "  <span style=\"color: #f8f8f2; text-decoration-color: #f8f8f2; background-color: #272822\">    </span><span style=\"color: #e6db74; text-decoration-color: #e6db74; background-color: #272822\">\"Entertainment\"</span><span style=\"color: #f8f8f2; text-decoration-color: #f8f8f2; background-color: #272822\">: entertainment,</span><span style=\"background-color: #272822\">                                                                            </span>  \n",
              "  <span style=\"color: #f8f8f2; text-decoration-color: #f8f8f2; background-color: #272822\">    </span><span style=\"color: #e6db74; text-decoration-color: #e6db74; background-color: #272822\">\"Catering\"</span><span style=\"color: #f8f8f2; text-decoration-color: #f8f8f2; background-color: #272822\">: catering</span><span style=\"background-color: #272822\">                                                                                       </span>  \n",
              "  <span style=\"color: #f8f8f2; text-decoration-color: #f8f8f2; background-color: #272822\">})</span><span style=\"background-color: #272822\">                                                                                                             </span>  \n",
              " ───────────────────────────────────────────────────────────────────────────────────────────────────────────────── \n",
              "</pre>\n"
            ]
          },
          "metadata": {}
        },
        {
          "output_type": "display_data",
          "data": {
            "text/plain": [
              "\u001b[1;38;2;212;183;2mOut - Final answer: {'Decorations': ['Create a city skyline backdrop using large cardboard cutouts or a printed \u001b[0m\n",
              "\u001b[1;38;2;212;183;2mbackdrop.', 'Set up a photo booth with superhero-themed props and backdrops.', 'Use inflatable structures like \u001b[0m\n",
              "\u001b[1;38;2;212;183;2marches and tunnels to create a superhero-themed environment.', 'Hang banners and streamers with superhero logos and\u001b[0m\n",
              "\u001b[1;38;2;212;183;2msymbols.', 'Place superhero-themed tablecloths and centerpieces on tables.'], 'Entertainment': ['Organize a \u001b[0m\n",
              "\u001b[1;38;2;212;183;2msuperhero costume contest with prizes for the best costumes.', 'Set up a superhero training camp obstacle course.',\u001b[0m\n",
              "\u001b[1;38;2;212;183;2m'Host a superhero-themed movie marathon with classic superhero films.', 'Plan a superhero-themed scavenger hunt \u001b[0m\n",
              "\u001b[1;38;2;212;183;2mwith clues related to superheroes.', 'Invite a professional magician or a superhero-themed entertainer.'], \u001b[0m\n",
              "\u001b[1;38;2;212;183;2m'Catering': [\"Serve superhero-themed snacks like Captain America's shield-shaped sandwiches, Iron Man's arc \u001b[0m\n",
              "\u001b[1;38;2;212;183;2mreactor-shaped cookies, and Thor's hammer-shaped cupcakes.\", 'Provide a dessert table with superhero-themed cakes \u001b[0m\n",
              "\u001b[1;38;2;212;183;2mand cupcakes.', 'Set up a superhero-themed bar with non-alcoholic drinks like Captain America Punch and Hulk Smash \u001b[0m\n",
              "\u001b[1;38;2;212;183;2mPunch.', 'Offer a variety of superhero-themed appetizers and finger foods.', 'Create a superhero-themed dessert bar\u001b[0m\n",
              "\u001b[1;38;2;212;183;2mwith a variety of superhero-themed treats.']}\u001b[0m\n"
            ],
            "text/html": [
              "<pre style=\"white-space:pre;overflow-x:auto;line-height:normal;font-family:Menlo,'DejaVu Sans Mono',consolas,'Courier New',monospace\"><span style=\"color: #d4b702; text-decoration-color: #d4b702; font-weight: bold\">Out - Final answer: {'Decorations': ['Create a city skyline backdrop using large cardboard cutouts or a printed </span>\n",
              "<span style=\"color: #d4b702; text-decoration-color: #d4b702; font-weight: bold\">backdrop.', 'Set up a photo booth with superhero-themed props and backdrops.', 'Use inflatable structures like </span>\n",
              "<span style=\"color: #d4b702; text-decoration-color: #d4b702; font-weight: bold\">arches and tunnels to create a superhero-themed environment.', 'Hang banners and streamers with superhero logos and</span>\n",
              "<span style=\"color: #d4b702; text-decoration-color: #d4b702; font-weight: bold\">symbols.', 'Place superhero-themed tablecloths and centerpieces on tables.'], 'Entertainment': ['Organize a </span>\n",
              "<span style=\"color: #d4b702; text-decoration-color: #d4b702; font-weight: bold\">superhero costume contest with prizes for the best costumes.', 'Set up a superhero training camp obstacle course.',</span>\n",
              "<span style=\"color: #d4b702; text-decoration-color: #d4b702; font-weight: bold\">'Host a superhero-themed movie marathon with classic superhero films.', 'Plan a superhero-themed scavenger hunt </span>\n",
              "<span style=\"color: #d4b702; text-decoration-color: #d4b702; font-weight: bold\">with clues related to superheroes.', 'Invite a professional magician or a superhero-themed entertainer.'], </span>\n",
              "<span style=\"color: #d4b702; text-decoration-color: #d4b702; font-weight: bold\">'Catering': [\"Serve superhero-themed snacks like Captain America's shield-shaped sandwiches, Iron Man's arc </span>\n",
              "<span style=\"color: #d4b702; text-decoration-color: #d4b702; font-weight: bold\">reactor-shaped cookies, and Thor's hammer-shaped cupcakes.\", 'Provide a dessert table with superhero-themed cakes </span>\n",
              "<span style=\"color: #d4b702; text-decoration-color: #d4b702; font-weight: bold\">and cupcakes.', 'Set up a superhero-themed bar with non-alcoholic drinks like Captain America Punch and Hulk Smash </span>\n",
              "<span style=\"color: #d4b702; text-decoration-color: #d4b702; font-weight: bold\">Punch.', 'Offer a variety of superhero-themed appetizers and finger foods.', 'Create a superhero-themed dessert bar</span>\n",
              "<span style=\"color: #d4b702; text-decoration-color: #d4b702; font-weight: bold\">with a variety of superhero-themed treats.']}</span>\n",
              "</pre>\n"
            ]
          },
          "metadata": {}
        },
        {
          "output_type": "display_data",
          "data": {
            "text/plain": [
              "\u001b[2m[Step 5: Duration 6.92 seconds| Input tokens: 22,205 | Output tokens: 1,339]\u001b[0m\n"
            ],
            "text/html": [
              "<pre style=\"white-space:pre;overflow-x:auto;line-height:normal;font-family:Menlo,'DejaVu Sans Mono',consolas,'Courier New',monospace\"><span style=\"color: #7f7f7f; text-decoration-color: #7f7f7f\">[Step 5: Duration 6.92 seconds| Input tokens: 22,205 | Output tokens: 1,339]</span>\n",
              "</pre>\n"
            ]
          },
          "metadata": {}
        },
        {
          "output_type": "stream",
          "name": "stdout",
          "text": [
            "{'Decorations': ['Create a city skyline backdrop using large cardboard cutouts or a printed backdrop.', 'Set up a photo booth with superhero-themed props and backdrops.', 'Use inflatable structures like arches and tunnels to create a superhero-themed environment.', 'Hang banners and streamers with superhero logos and symbols.', 'Place superhero-themed tablecloths and centerpieces on tables.'], 'Entertainment': ['Organize a superhero costume contest with prizes for the best costumes.', 'Set up a superhero training camp obstacle course.', 'Host a superhero-themed movie marathon with classic superhero films.', 'Plan a superhero-themed scavenger hunt with clues related to superheroes.', 'Invite a professional magician or a superhero-themed entertainer.'], 'Catering': [\"Serve superhero-themed snacks like Captain America's shield-shaped sandwiches, Iron Man's arc reactor-shaped cookies, and Thor's hammer-shaped cupcakes.\", 'Provide a dessert table with superhero-themed cakes and cupcakes.', 'Set up a superhero-themed bar with non-alcoholic drinks like Captain America Punch and Hulk Smash Punch.', 'Offer a variety of superhero-themed appetizers and finger foods.', 'Create a superhero-themed dessert bar with a variety of superhero-themed treats.']}\n"
          ]
        }
      ],
      "source": [
        "from smolagents import CodeAgent, DuckDuckGoSearchTool, InferenceClientModel\n",
        "\n",
        "# Initialize the search tool\n",
        "search_tool = DuckDuckGoSearchTool()\n",
        "\n",
        "# Initialize the model\n",
        "model = InferenceClientModel()\n",
        "\n",
        "agent = CodeAgent(\n",
        "    model = model,\n",
        "    tools=[search_tool]\n",
        ")\n",
        "\n",
        "# Example usage\n",
        "response = agent.run(\n",
        "    \"Search for luxury superhero-themed party ideas, including decorations, entertainment, and catering.\"\n",
        ")\n",
        "print(response)"
      ]
    },
    {
      "cell_type": "code",
      "source": [],
      "metadata": {
        "id": "gx0avTeBZtnG"
      },
      "execution_count": null,
      "outputs": []
    }
  ]
}